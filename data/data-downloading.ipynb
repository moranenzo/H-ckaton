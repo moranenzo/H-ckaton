{
 "cells": [
  {
   "cell_type": "markdown",
   "metadata": {},
   "source": [
    "# Importation du fichier CSV dans le code"
   ]
  },
  {
   "cell_type": "code",
   "execution_count": 1,
   "metadata": {},
   "outputs": [
    {
     "name": "stdout",
     "output_type": "stream",
     "text": [
      "Collecting gdown\n",
      "  Downloading gdown-5.2.0-py3-none-any.whl.metadata (5.8 kB)\n",
      "Requirement already satisfied: beautifulsoup4 in /opt/conda/lib/python3.12/site-packages (from gdown) (4.12.3)\n",
      "Collecting filelock (from gdown)\n",
      "  Downloading filelock-3.16.1-py3-none-any.whl.metadata (2.9 kB)\n",
      "Requirement already satisfied: requests[socks] in /opt/conda/lib/python3.12/site-packages (from gdown) (2.32.3)\n",
      "Requirement already satisfied: tqdm in /opt/conda/lib/python3.12/site-packages (from gdown) (4.66.5)\n",
      "Requirement already satisfied: soupsieve>1.2 in /opt/conda/lib/python3.12/site-packages (from beautifulsoup4->gdown) (2.5)\n",
      "Requirement already satisfied: charset-normalizer<4,>=2 in /opt/conda/lib/python3.12/site-packages (from requests[socks]->gdown) (3.4.0)\n",
      "Requirement already satisfied: idna<4,>=2.5 in /opt/conda/lib/python3.12/site-packages (from requests[socks]->gdown) (3.10)\n",
      "Requirement already satisfied: urllib3<3,>=1.21.1 in /opt/conda/lib/python3.12/site-packages (from requests[socks]->gdown) (2.2.3)\n",
      "Requirement already satisfied: certifi>=2017.4.17 in /opt/conda/lib/python3.12/site-packages (from requests[socks]->gdown) (2024.8.30)\n",
      "Requirement already satisfied: PySocks!=1.5.7,>=1.5.6 in /opt/conda/lib/python3.12/site-packages (from requests[socks]->gdown) (1.7.1)\n",
      "Downloading gdown-5.2.0-py3-none-any.whl (18 kB)\n",
      "Downloading filelock-3.16.1-py3-none-any.whl (16 kB)\n",
      "Installing collected packages: filelock, gdown\n",
      "Successfully installed filelock-3.16.1 gdown-5.2.0\n",
      "Note: you may need to restart the kernel to use updated packages.\n"
     ]
    }
   ],
   "source": [
    "pip install gdown"
   ]
  },
  {
   "cell_type": "code",
   "execution_count": 2,
   "metadata": {},
   "outputs": [],
   "source": [
    "import gdown\n",
    "import pandas as pd"
   ]
  },
  {
   "cell_type": "markdown",
   "metadata": {},
   "source": [
    "## Importation des bases de données dans leur entièreté"
   ]
  },
  {
   "cell_type": "code",
   "execution_count": 3,
   "metadata": {},
   "outputs": [
    {
     "name": "stderr",
     "output_type": "stream",
     "text": [
      "Downloading...\n",
      "From (original): https://drive.google.com/uc?id=1c0fje85ul1EFX-vh6RwjvuYtP2v1WIq2\n",
      "From (redirected): https://drive.google.com/uc?id=1c0fje85ul1EFX-vh6RwjvuYtP2v1WIq2&confirm=t&uuid=7fc5187f-7db7-4be8-bc26-178ccc56df6b\n",
      "To: /home/onyxia/Hickaton/X_train.csv\n",
      "100%|██████████| 2.83G/2.83G [00:46<00:00, 60.8MB/s]\n",
      "Downloading...\n",
      "From (original): https://drive.google.com/uc?id=13fu6pPDtRCTmYUjJDs4fQyCStwOMk3R-\n",
      "From (redirected): https://drive.google.com/uc?id=13fu6pPDtRCTmYUjJDs4fQyCStwOMk3R-&confirm=t&uuid=bd2bda09-9235-4435-abbc-81d7c956db30\n",
      "To: /home/onyxia/Hickaton/X_test.csv\n",
      "100%|██████████| 531M/531M [00:07<00:00, 75.3MB/s] \n",
      "/tmp/ipykernel_11140/4112301674.py:14: DtypeWarning: Columns (108,110,111,115,117,118,122,124,125) have mixed types. Specify dtype option on import or set low_memory=False.\n",
      "  df_train = pd.read_csv(output_train)\n",
      "/tmp/ipykernel_11140/4112301674.py:15: DtypeWarning: Columns (1,5,108,110,111,115,117,118,122,124,125) have mixed types. Specify dtype option on import or set low_memory=False.\n",
      "  df_test = pd.read_csv(output_test)\n"
     ]
    },
    {
     "name": "stdout",
     "output_type": "stream",
     "text": [
      "   row_index piezo_station_department_code      piezo_station_update_date  \\\n",
      "0          0                            01  Sun Jul 14 13:00:02 CEST 2024   \n",
      "1          1                            01  Sun Jul 14 13:00:02 CEST 2024   \n",
      "2          2                            01  Sun Jul 14 13:00:02 CEST 2024   \n",
      "3          3                            01  Sun Jul 14 13:00:02 CEST 2024   \n",
      "4          4                            01  Sun Jul 14 13:00:02 CEST 2024   \n",
      "\n",
      "   piezo_station_investigation_depth piezo_station_department_name  \\\n",
      "0                              20.00                           Ain   \n",
      "1                              35.60                           Ain   \n",
      "2                              35.22                           Ain   \n",
      "3                              34.20                           Ain   \n",
      "4                              37.30                           Ain   \n",
      "\n",
      "  piezo_station_commune_code_insee  \\\n",
      "0                            01073   \n",
      "1                            01363   \n",
      "2                            01244   \n",
      "3                            01288   \n",
      "4                            01422   \n",
      "\n",
      "                              piezo_station_pe_label  \\\n",
      "0  PIEZOMETRE - MARAIS DE LAVOURS (CEYZERIEU - BR...   \n",
      "1  PIEZOMETRE - GRAVIERE (ST-JEAN-LE-VIEUX - BRGM...   \n",
      "2  PIEZOMETRE - BORD AUTOROUTE (MEXIMIEUX - BRGM ...   \n",
      "3         PIEZOMETRE - GRENY (PERON - BRGM 01) - BSH   \n",
      "4          FORAGE - ENCLOS (TOSSIAT - BRGM 01) - BSH   \n",
      "\n",
      "  piezo_station_bdlisa_codes  piezo_station_altitude piezo_station_bss_code  \\\n",
      "0                ['712AH37']                  232.00       07004X0046/D6-20   \n",
      "1                ['712GB05']                  247.25          06754X0077/F1   \n",
      "2                ['040AJ43']                  218.77      06993X0226/MEXI_2   \n",
      "3     ['516AA00', '516AF00']                  499.85          06533X0070/F2   \n",
      "4                ['507AB00']                  260.00          06518X0026/P2   \n",
      "\n",
      "   ... prelev_longitude_2  prelev_latitude_2  prelev_commune_code_insee_2  \\\n",
      "0  ...           5.698947          45.725106                       1454.0   \n",
      "1  ...           5.464933          46.210734                       1051.0   \n",
      "2  ...           5.085060          45.812828                      69266.0   \n",
      "3  ...           5.802841          46.366049                      39286.0   \n",
      "4  ...           5.377265          46.080989                       1273.0   \n",
      "\n",
      "  prelev_other_volume_sum insee_%_agri insee_pop_commune  \\\n",
      "0            1.793055e+09         11.8             992.0   \n",
      "1            1.085125e+09          0.6            1786.0   \n",
      "2            3.810492e+08            0            8085.0   \n",
      "3            3.800911e+08          1.5            2838.0   \n",
      "4            1.966631e+07          0.2            1352.0   \n",
      "\n",
      "  insee_med_living_level insee_%_ind insee_%_const  \\\n",
      "0                  25250         2.9          16.2   \n",
      "1                  24660        44.5            11   \n",
      "2                  24890         8.4           7.8   \n",
      "3                  39700         2.4           5.2   \n",
      "4                  26180        21.5           9.8   \n",
      "\n",
      "   piezo_groundwater_level_category  \n",
      "0                              High  \n",
      "1                         Very High  \n",
      "2                              High  \n",
      "3                         Very High  \n",
      "4                          Very Low  \n",
      "\n",
      "[5 rows x 136 columns]\n"
     ]
    }
   ],
   "source": [
    "# ID et lien du fichier Google Drive\n",
    "X_test_url = \"https://drive.google.com/uc?id=13fu6pPDtRCTmYUjJDs4fQyCStwOMk3R-\"\n",
    "X_train_url = \"https://drive.google.com/uc?id=1c0fje85ul1EFX-vh6RwjvuYtP2v1WIq2\"\n",
    "\n",
    "# Téléchargement du fichier test\n",
    "output_train = 'X_train.csv'  # Nom du fichier local où vous voulez sauvegarder X_test\n",
    "gdown.download(X_train_url, output_train, quiet=False)\n",
    "\n",
    "# Téléchargement du fichier test\n",
    "output_test = 'X_test.csv'  # Nom du fichier local où vous voulez sauvegarder X_test\n",
    "gdown.download(X_test_url, output_test, quiet=False)\n",
    "\n",
    "# Charger le fichier CSV dans un DataFrame pandas\n",
    "df_train = pd.read_csv(output_train)\n",
    "df_test = pd.read_csv(output_test)\n",
    "\n",
    "# Afficher les premières lignes pour vérifier\n",
    "print(df_train.head())\n"
   ]
  },
  {
   "cell_type": "markdown",
   "metadata": {},
   "source": [
    "## Réduction des bases de données"
   ]
  },
  {
   "cell_type": "code",
   "execution_count": 4,
   "metadata": {},
   "outputs": [],
   "source": [
    "# Charger les 100 000 premières lignes\n",
    "X_train = pd.read_csv('X_train.csv', nrows=100000)\n",
    "X_test = pd.read_csv('X_test.csv', nrows=100000)\n",
    "\n",
    "# Réécrire le fichier CSV avec seulement ces lignes\n",
    "X_train.to_csv('X_train.csv', index=False)\n",
    "X_test.to_csv('X_test.csv', index=False)"
   ]
  }
 ],
 "metadata": {
  "kernelspec": {
   "display_name": "base",
   "language": "python",
   "name": "python3"
  },
  "language_info": {
   "codemirror_mode": {
    "name": "ipython",
    "version": 3
   },
   "file_extension": ".py",
   "mimetype": "text/x-python",
   "name": "python",
   "nbconvert_exporter": "python",
   "pygments_lexer": "ipython3",
   "version": "3.12.6"
  }
 },
 "nbformat": 4,
 "nbformat_minor": 2
}
