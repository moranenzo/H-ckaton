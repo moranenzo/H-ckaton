{
 "cells": [
  {
   "cell_type": "markdown",
   "metadata": {},
   "source": [
    "# Load data"
   ]
  },
  {
   "cell_type": "code",
   "execution_count": null,
   "metadata": {},
   "outputs": [],
   "source": [
    "from pandas import DataFrame, read_csv\n",
    "\n",
    "def load_tiny_data(\n",
    "        data_file: str,\n",
    "        n_rows: int = 100_000,\n",
    ") -> DataFrame:\n",
    "    return read_csv(data_file, index_col='row_index', chunksize=n_rows)"
   ]
  },
  {
   "cell_type": "code",
   "execution_count": null,
   "metadata": {},
   "outputs": [],
   "source": [
    "import pandas as pd\n",
    "\n",
    "#train_data = file_manager.load_training_data()\n",
    "\n",
    "# TODO\n",
    "test_file = ...\n",
    "\n",
    "test_data = load_tiny_data(test_file)\n",
    "tiny_train_data = load_tiny_data()"
   ]
  },
  {
   "cell_type": "markdown",
   "metadata": {},
   "source": [
    "# Split raw data by variable category (piezo, weather, ...)\n",
    "\n",
    "We are only interested in training data."
   ]
  },
  {
   "cell_type": "code",
   "execution_count": null,
   "metadata": {},
   "outputs": [],
   "source": [
    "from pandas import DataFrame\n",
    "\n",
    "# Function to extract variable category\n",
    "def extract_category(\n",
    "        df: DataFrame,\n",
    "        category: str,\n",
    ") -> DataFrame:\n",
    "    return df[df.columns[df.columns.str.startswith(category)]]"
   ]
  },
  {
   "cell_type": "code",
   "execution_count": null,
   "metadata": {},
   "outputs": [],
   "source": [
    "# Example with meteo variables\n",
    "meteo_variables = extract_category(tiny_train_data, 'meteo')\n",
    "meteo_variables.head()"
   ]
  }
 ],
 "metadata": {
  "kernelspec": {
   "display_name": "map",
   "language": "python",
   "name": "python3"
  },
  "language_info": {
   "codemirror_mode": {
    "name": "ipython",
    "version": 3
   },
   "file_extension": ".py",
   "mimetype": "text/x-python",
   "name": "python",
   "nbconvert_exporter": "python",
   "pygments_lexer": "ipython3",
   "version": "3.11.10"
  }
 },
 "nbformat": 4,
 "nbformat_minor": 2
}
