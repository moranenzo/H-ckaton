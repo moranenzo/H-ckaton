{
 "cells": [
  {
   "cell_type": "markdown",
   "metadata": {},
   "source": [
    "# Cleaning Piezo variables"
   ]
  },
  {
   "cell_type": "code",
   "execution_count": 1,
   "metadata": {},
   "outputs": [
    {
     "name": "stderr",
     "output_type": "stream",
     "text": [
      "/tmp/ipykernel_18378/1304970788.py:5: DtypeWarning: Columns (1,5) have mixed types. Specify dtype option on import or set low_memory=False.\n",
      "  df_train = pd.read_csv('X_train.csv', nrows=100000)\n",
      "/tmp/ipykernel_18378/1304970788.py:6: DtypeWarning: Columns (1,5) have mixed types. Specify dtype option on import or set low_memory=False.\n",
      "  df_test = pd.read_csv('X_test.csv', nrows=100000)\n"
     ]
    }
   ],
   "source": [
    "import pandas as pd\n",
    "\n",
    "var = \"piezo_groundwater_level_category\"\n",
    "\n",
    "df_train = pd.read_csv('X_train.csv', nrows=100000)\n",
    "df_test = pd.read_csv('X_test.csv', nrows=100000)\n",
    "\n",
    "# Splitting into X and y variables\n",
    "X_train = df_train.drop(var, axis=1)\n",
    "y_train = df_train[var]"
   ]
  },
  {
   "cell_type": "code",
   "execution_count": null,
   "metadata": {},
   "outputs": [],
   "source": [
    "df_piezo = X_train.filter(regex='^piezo')"
   ]
  },
  {
   "cell_type": "code",
   "execution_count": 8,
   "metadata": {},
   "outputs": [
    {
     "name": "stdout",
     "output_type": "stream",
     "text": [
      "['piezo_station_department_code', 'piezo_station_update_date', 'piezo_station_investigation_depth', 'piezo_station_department_name', 'piezo_station_commune_code_insee', 'piezo_station_pe_label', 'piezo_station_bdlisa_codes', 'piezo_station_altitude', 'piezo_station_bss_code', 'piezo_station_commune_name', 'piezo_station_longitude', 'piezo_station_latitude', 'piezo_station_bss_id', 'piezo_bss_code', 'piezo_measurement_date', 'piezo_obtention_mode', 'piezo_status', 'piezo_qualification', 'piezo_continuity_code', 'piezo_continuity_name', 'piezo_producer_code', 'piezo_producer_name', 'piezo_measure_nature_code', 'piezo_measure_nature_name']\n"
     ]
    }
   ],
   "source": [
    "# Affichage des noms des variables\n",
    "print(df_piezo.columns.tolist())"
   ]
  }
 ],
 "metadata": {
  "kernelspec": {
   "display_name": "base",
   "language": "python",
   "name": "python3"
  },
  "language_info": {
   "codemirror_mode": {
    "name": "ipython",
    "version": 3
   },
   "file_extension": ".py",
   "mimetype": "text/x-python",
   "name": "python",
   "nbconvert_exporter": "python",
   "pygments_lexer": "ipython3",
   "version": "3.12.6"
  }
 },
 "nbformat": 4,
 "nbformat_minor": 2
}
