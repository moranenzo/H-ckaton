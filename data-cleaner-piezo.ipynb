{
 "cells": [
  {
   "cell_type": "markdown",
   "metadata": {},
   "source": [
    "# Cleaning Piezo variables"
   ]
  },
  {
   "cell_type": "markdown",
   "metadata": {},
   "source": [
    "Data Cleaning is the first step of any Data Science project and can sometimes be very time consuming.\n",
    "It involves identifying and correcting errors, inconsistencies or incomplete data within a dataset.\n",
    "\n",
    "1. Handle missing values\n",
    "2. Remove duplicates/irrelevant or hard to preprocess variables\n",
    "3. Clean text data with an incorrect format"
   ]
  },
  {
   "cell_type": "code",
   "execution_count": 63,
   "metadata": {},
   "outputs": [],
   "source": [
    "import pandas as pd\n",
    "import matplotlib.pyplot as plt\n",
    "import seaborn as sns\n",
    "from utils import *"
   ]
  },
  {
   "cell_type": "code",
   "execution_count": 64,
   "metadata": {},
   "outputs": [],
   "source": [
    "var = \"piezo_groundwater_level_category\"\n",
    "\n",
    "df_train = pd.read_csv('X_train.csv', nrows=100000)\n",
    "df_test = pd.read_csv('X_test.csv', nrows=100000)\n",
    "\n",
    "# Splitting into X and y variables\n",
    "X_train = df_train.drop(var, axis=1)\n",
    "y_train = df_train[var]"
   ]
  },
  {
   "cell_type": "code",
   "execution_count": 65,
   "metadata": {},
   "outputs": [],
   "source": [
    "df = X_train.filter(regex='^piezo')"
   ]
  },
  {
   "cell_type": "code",
   "execution_count": 66,
   "metadata": {},
   "outputs": [],
   "source": [
    "# Affichage des noms des variables\n",
    "variables = df.columns.tolist()"
   ]
  },
  {
   "cell_type": "markdown",
   "metadata": {},
   "source": [
    "The `.info()` function allows you to check:\n",
    "\n",
    "1. The number of \"non-null\" values (number of rows without a NaN value)\n",
    "2. The data type (or dtype of each column)\n",
    "3. The number of rows and the columns present in the dataset"
   ]
  },
  {
   "cell_type": "code",
   "execution_count": 81,
   "metadata": {},
   "outputs": [
    {
     "name": "stdout",
     "output_type": "stream",
     "text": [
      "<class 'pandas.core.frame.DataFrame'>\n",
      "RangeIndex: 100000 entries, 0 to 99999\n",
      "Data columns (total 24 columns):\n",
      " #   Column                             Non-Null Count   Dtype  \n",
      "---  ------                             --------------   -----  \n",
      " 0   piezo_station_department_code      100000 non-null  object \n",
      " 1   piezo_station_update_date          100000 non-null  object \n",
      " 2   piezo_station_investigation_depth  93886 non-null   float64\n",
      " 3   piezo_station_department_name      100000 non-null  object \n",
      " 4   piezo_station_commune_code_insee   100000 non-null  object \n",
      " 5   piezo_station_pe_label             91917 non-null   object \n",
      " 6   piezo_station_bdlisa_codes         95136 non-null   object \n",
      " 7   piezo_station_altitude             100000 non-null  float64\n",
      " 8   piezo_station_bss_code             100000 non-null  object \n",
      " 9   piezo_station_commune_name         100000 non-null  object \n",
      " 10  piezo_station_longitude            100000 non-null  float64\n",
      " 11  piezo_station_latitude             100000 non-null  float64\n",
      " 12  piezo_station_bss_id               100000 non-null  object \n",
      " 13  piezo_bss_code                     100000 non-null  object \n",
      " 14  piezo_measurement_date             100000 non-null  object \n",
      " 15  piezo_obtention_mode               100000 non-null  object \n",
      " 16  piezo_status                       100000 non-null  object \n",
      " 17  piezo_qualification                100000 non-null  object \n",
      " 18  piezo_continuity_code              100000 non-null  float64\n",
      " 19  piezo_continuity_name              100000 non-null  object \n",
      " 20  piezo_producer_code                94280 non-null   float64\n",
      " 21  piezo_producer_name                94280 non-null   object \n",
      " 22  piezo_measure_nature_code          95638 non-null   object \n",
      " 23  piezo_measure_nature_name          95638 non-null   object \n",
      "dtypes: float64(6), object(18)\n",
      "memory usage: 18.3+ MB\n"
     ]
    }
   ],
   "source": [
    "df.info()"
   ]
  },
  {
   "cell_type": "markdown",
   "metadata": {},
   "source": [
    "## 1. Handle missing values"
   ]
  },
  {
   "cell_type": "markdown",
   "metadata": {},
   "source": [
    "Real-word data often contains missing values. This can be due to technical failures, data entry issues, incompatible data formats or even intentional omissions (for privacy concerns). Examples include a lack of response to a survey or equipment failures when collecting data.\n",
    "\n",
    "Here is a list of strategies to handle missing values:\n",
    "\n",
    "- Replace NaN with the mean or median value (for continuous data)\n",
    "- Replace NaN with the most frequent value (for categorical data)\n",
    "- Create a new category for the missing values (for categorical data)\n",
    "- Use a Machine Learning model to predict the missing values (KNN, Random Forest,...)"
   ]
  },
  {
   "cell_type": "markdown",
   "metadata": {},
   "source": [
    "### Selection of variables with missing values"
   ]
  },
  {
   "cell_type": "code",
   "execution_count": 68,
   "metadata": {},
   "outputs": [
    {
     "name": "stdout",
     "output_type": "stream",
     "text": [
      "['piezo_station_investigation_depth', 'piezo_station_pe_label', 'piezo_station_bdlisa_codes', 'piezo_producer_code', 'piezo_producer_name', 'piezo_measure_nature_code', 'piezo_measure_nature_name']\n"
     ]
    }
   ],
   "source": [
    "# Number of missing values for each variable\n",
    "missing_columns = df.columns[df.isna().sum() > 0].tolist()\n",
    "print(missing_columns)"
   ]
  },
  {
   "cell_type": "markdown",
   "metadata": {},
   "source": [
    "### Let's go"
   ]
  },
  {
   "cell_type": "markdown",
   "metadata": {},
   "source": [
    "Standardization of `object-type` columns and columns names (not required here)"
   ]
  },
  {
   "cell_type": "code",
   "execution_count": 69,
   "metadata": {},
   "outputs": [
    {
     "name": "stderr",
     "output_type": "stream",
     "text": [
      "/tmp/ipykernel_9203/3121806354.py:3: SettingWithCopyWarning: \n",
      "A value is trying to be set on a copy of a slice from a DataFrame.\n",
      "Try using .loc[row_indexer,col_indexer] = value instead\n",
      "\n",
      "See the caveats in the documentation: https://pandas.pydata.org/pandas-docs/stable/user_guide/indexing.html#returning-a-view-versus-a-copy\n",
      "  df[col] = df[col].str.lower().str.strip()\n",
      "/tmp/ipykernel_9203/3121806354.py:6: SettingWithCopyWarning: \n",
      "A value is trying to be set on a copy of a slice from a DataFrame\n",
      "\n",
      "See the caveats in the documentation: https://pandas.pydata.org/pandas-docs/stable/user_guide/indexing.html#returning-a-view-versus-a-copy\n",
      "  df.rename(columns=lambda x: x.strip().lower().replace(' ', '_'), inplace=True)\n"
     ]
    }
   ],
   "source": [
    "# Standardize object-type columns\n",
    "for col in df.select_dtypes(include='object').columns:\n",
    "    df[col] = df[col].str.lower().str.strip()\n",
    "\n",
    "# Standardize column names to simplify their manipulation\n",
    "df.rename(columns=lambda x: x.strip().lower().replace(' ', '_'), inplace=True)"
   ]
  },
  {
   "cell_type": "code",
   "execution_count": 71,
   "metadata": {},
   "outputs": [
    {
     "name": "stderr",
     "output_type": "stream",
     "text": [
      "/tmp/ipykernel_9203/4256957219.py:6: SettingWithCopyWarning: \n",
      "A value is trying to be set on a copy of a slice from a DataFrame\n",
      "\n",
      "See the caveats in the documentation: https://pandas.pydata.org/pandas-docs/stable/user_guide/indexing.html#returning-a-view-versus-a-copy\n",
      "  df.drop_duplicates(inplace=True)\n"
     ]
    }
   ],
   "source": [
    "# 1. Traiter les valeurs manquantes\n",
    "# column_filler(df, col, 'mean')\n",
    "\n",
    "\n",
    "# Removing duplicates\n",
    "df.drop_duplicates(inplace=True)"
   ]
  },
  {
   "cell_type": "code",
   "execution_count": 74,
   "metadata": {},
   "outputs": [],
   "source": [
    "def separate_col(df, list):\n",
    "    categorical_variables = []\n",
    "    continuous_variables = []\n",
    "    for col in list:\n",
    "        if df[col].dtype in ['int64', 'float64']:\n",
    "            continuous_variables.append(col)\n",
    "\n",
    "        elif df[col].dtype == 'object':\n",
    "            categorical_variables.append(col)\n",
    "\n",
    "        else:\n",
    "            raise ValueError(f\"Unsupported data type: {df[col].dtype}\")\n",
    "\n",
    "    return categorical_variables, continuous_variables"
   ]
  },
  {
   "cell_type": "code",
   "execution_count": 76,
   "metadata": {},
   "outputs": [
    {
     "name": "stdout",
     "output_type": "stream",
     "text": [
      "['piezo_station_investigation_depth', 'piezo_station_pe_label', 'piezo_station_bdlisa_codes', 'piezo_producer_code', 'piezo_producer_name', 'piezo_measure_nature_code', 'piezo_measure_nature_name']\n"
     ]
    }
   ],
   "source": [
    "print(missing_columns)\n",
    "cat_var, cont_var = separate_col(df, missing_columns)\n"
   ]
  },
  {
   "cell_type": "code",
   "execution_count": 80,
   "metadata": {},
   "outputs": [
    {
     "data": {
      "image/png": "[encoded data removed]",
      "text/plain": [
       "<Figure size 1000x600 with 1 Axes>"
      ]
     },
     "metadata": {},
     "output_type": "display_data"
    }
   ],
   "source": [
    "plot_variable(df, cont_var[1], 'box')"
   ]
  },
  {
   "cell_type": "code",
   "execution_count": 98,
   "metadata": {},
   "outputs": [
    {
     "name": "stdout",
     "output_type": "stream",
     "text": [
      "piezo_station_commune_name\n",
      "saumur                   476\n",
      "saint-martin-de-crau     410\n",
      "creutzwald               372\n",
      "cholet                   347\n",
      "baugé-en-anjou           280\n",
      "                        ... \n",
      "wavrechain-sous-faulx      1\n",
      "mont-de-marsan             1\n",
      "tortequesne                1\n",
      "boiry-notre-dame           1\n",
      "rueil-la-gadelière         1\n",
      "Name: count, Length: 2194, dtype: int64\n"
     ]
    }
   ],
   "source": [
    "print(df['piezo_station_commune_name'].value_counts())"
   ]
  }
 ],
 "metadata": {
  "kernelspec": {
   "display_name": "base",
   "language": "python",
   "name": "python3"
  },
  "language_info": {
   "codemirror_mode": {
    "name": "ipython",
    "version": 3
   },
   "file_extension": ".py",
   "mimetype": "text/x-python",
   "name": "python",
   "nbconvert_exporter": "python",
   "pygments_lexer": "ipython3",
   "version": "3.12.6"
  }
 },
 "nbformat": 4,
 "nbformat_minor": 2
}
