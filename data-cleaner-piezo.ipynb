{
 "cells": [
  {
   "cell_type": "markdown",
   "metadata": {},
   "source": [
    "# Cleaning Piezo variables"
   ]
  },
  {
   "cell_type": "markdown",
   "metadata": {},
   "source": [
    "Data Cleaning is the first step of any Data Science project and can sometimes be very time consuming.\n",
    "It involves identifying and correcting errors, inconsistencies or incomplete data within a dataset.\n",
    "\n",
    "1. Handle missing values\n",
    "2. Remove duplicates/irrelevant or hard to preprocess variables\n",
    "3. Clean text data with an incorrect format"
   ]
  },
  {
   "cell_type": "code",
   "execution_count": 37,
   "metadata": {},
   "outputs": [],
   "source": [
    "import pandas as pd\n",
    "import matplotlib.pyplot as plt\n",
    "import seaborn as sns\n",
    "from utils import *"
   ]
  },
  {
   "cell_type": "code",
   "execution_count": null,
   "metadata": {},
   "outputs": [],
   "source": [
    "var = \"piezo_groundwater_level_category\"\n",
    "\n",
    "df_train = pd.read_csv('X_train.csv', nrows=100000)\n",
    "df_test = pd.read_csv('X_test.csv', nrows=100000)\n",
    "\n",
    "# Splitting into X and y variables\n",
    "X_train = df_train.drop(var, axis=1)\n",
    "y_train = df_train[var]"
   ]
  },
  {
   "cell_type": "code",
   "execution_count": 14,
   "metadata": {},
   "outputs": [],
   "source": [
    "df = X_train.filter(regex='^piezo')"
   ]
  },
  {
   "cell_type": "code",
   "execution_count": 15,
   "metadata": {},
   "outputs": [],
   "source": [
    "# Affichage des noms des variables\n",
    "variables = df.columns.tolist()"
   ]
  },
  {
   "cell_type": "markdown",
   "metadata": {},
   "source": [
    "The `.info()` function allows you to check:\n",
    "\n",
    "1. The number of \"non-null\" values (number of rows without a NaN value)\n",
    "2. The data type (or dtype of each column)\n",
    "3. The number of rows and the columns present in the dataset"
   ]
  },
  {
   "cell_type": "code",
   "execution_count": 16,
   "metadata": {},
   "outputs": [
    {
     "name": "stdout",
     "output_type": "stream",
     "text": [
      "<class 'pandas.core.frame.DataFrame'>\n",
      "RangeIndex: 100000 entries, 0 to 99999\n",
      "Data columns (total 24 columns):\n",
      " #   Column                             Non-Null Count   Dtype  \n",
      "---  ------                             --------------   -----  \n",
      " 0   piezo_station_department_code      100000 non-null  object \n",
      " 1   piezo_station_update_date          100000 non-null  object \n",
      " 2   piezo_station_investigation_depth  93886 non-null   float64\n",
      " 3   piezo_station_department_name      100000 non-null  object \n",
      " 4   piezo_station_commune_code_insee   100000 non-null  object \n",
      " 5   piezo_station_pe_label             91917 non-null   object \n",
      " 6   piezo_station_bdlisa_codes         95136 non-null   object \n",
      " 7   piezo_station_altitude             100000 non-null  float64\n",
      " 8   piezo_station_bss_code             100000 non-null  object \n",
      " 9   piezo_station_commune_name         100000 non-null  object \n",
      " 10  piezo_station_longitude            100000 non-null  float64\n",
      " 11  piezo_station_latitude             100000 non-null  float64\n",
      " 12  piezo_station_bss_id               100000 non-null  object \n",
      " 13  piezo_bss_code                     100000 non-null  object \n",
      " 14  piezo_measurement_date             100000 non-null  object \n",
      " 15  piezo_obtention_mode               100000 non-null  object \n",
      " 16  piezo_status                       100000 non-null  object \n",
      " 17  piezo_qualification                100000 non-null  object \n",
      " 18  piezo_continuity_code              100000 non-null  float64\n",
      " 19  piezo_continuity_name              100000 non-null  object \n",
      " 20  piezo_producer_code                94280 non-null   float64\n",
      " 21  piezo_producer_name                94280 non-null   object \n",
      " 22  piezo_measure_nature_code          95638 non-null   object \n",
      " 23  piezo_measure_nature_name          95638 non-null   object \n",
      "dtypes: float64(6), object(18)\n",
      "memory usage: 18.3+ MB\n"
     ]
    }
   ],
   "source": [
    "df.info()"
   ]
  },
  {
   "cell_type": "markdown",
   "metadata": {},
   "source": [
    "## 1. Handle missing values"
   ]
  },
  {
   "cell_type": "markdown",
   "metadata": {},
   "source": [
    "Real-word data often contains missing values. This can be due to technical failures, data entry issues, incompatible data formats or even intentional omissions (for privacy concerns). Examples include a lack of response to a survey or equipment failures when collecting data.\n",
    "\n",
    "Here is a list of strategies to handle missing values:\n",
    "\n",
    "- Replace NaN with the mean or median value (for continuous data)\n",
    "- Replace NaN with the most frequent value (for categorical data)\n",
    "- Create a new category for the missing values (for categorical data)\n",
    "- Use a Machine Learning model to predict the missing values (KNN, Random Forest,...)"
   ]
  },
  {
   "cell_type": "markdown",
   "metadata": {},
   "source": [
    "### Selection of variables with missing values"
   ]
  },
  {
   "cell_type": "code",
   "execution_count": 30,
   "metadata": {},
   "outputs": [
    {
     "name": "stdout",
     "output_type": "stream",
     "text": [
      "['piezo_station_investigation_depth', 'piezo_station_pe_label', 'piezo_station_bdlisa_codes', 'piezo_producer_code', 'piezo_producer_name', 'piezo_measure_nature_code', 'piezo_measure_nature_name']\n"
     ]
    }
   ],
   "source": [
    "# Number of missing values for each variable\n",
    "missing_columns = df.columns[df.isna().sum() > 0].tolist()\n",
    "print(missing_columns)"
   ]
  },
  {
   "cell_type": "markdown",
   "metadata": {},
   "source": [
    "### Let's go"
   ]
  },
  {
   "cell_type": "markdown",
   "metadata": {},
   "source": [
    "Standardization of `object-type` columns and columns names (not required here)"
   ]
  },
  {
   "cell_type": "code",
   "execution_count": null,
   "metadata": {},
   "outputs": [],
   "source": [
    "# Standardize object-type columns\n",
    "for col in df.select_dtypes(include='object').columns:\n",
    "    df[col] = df[col].str.lower().str.strip()\n",
    "\n",
    "# Standardize column names to simplify their manipulation\n",
    "df.rename(columns=lambda x: x.strip().lower().replace(' ', '_'), inplace=True)"
   ]
  },
  {
   "cell_type": "code",
   "execution_count": null,
   "metadata": {},
   "outputs": [
    {
     "name": "stdout",
     "output_type": "stream",
     "text": [
      "      piezo_station_department_code      piezo_station_update_date  \\\n",
      "0                                01  Sun Jul 14 13:00:02 CEST 2024   \n",
      "1                                01  Sun Jul 14 13:00:02 CEST 2024   \n",
      "2                                01  Sun Jul 14 13:00:02 CEST 2024   \n",
      "3                                01  Sun Jul 14 13:00:02 CEST 2024   \n",
      "4                                01  Sun Jul 14 13:00:02 CEST 2024   \n",
      "...                             ...                            ...   \n",
      "99995                            32  Fri Jun 28 07:31:38 CEST 2024   \n",
      "99996                            32  Fri Jun 28 07:31:38 CEST 2024   \n",
      "99997                            32  Fri Jun 28 07:31:38 CEST 2024   \n",
      "99998                            32  Fri Jun 28 07:31:38 CEST 2024   \n",
      "99999                            32  Fri Jun 28 07:31:38 CEST 2024   \n",
      "\n",
      "       piezo_station_investigation_depth piezo_station_department_name  \\\n",
      "0                                  20.00                           Ain   \n",
      "1                                  35.60                           Ain   \n",
      "2                                  35.22                           Ain   \n",
      "3                                  34.20                           Ain   \n",
      "4                                  37.30                           Ain   \n",
      "...                                  ...                           ...   \n",
      "99995                               5.00                          Gers   \n",
      "99996                              12.30                          Gers   \n",
      "99997                             253.00                          Gers   \n",
      "99998                             781.50                          Gers   \n",
      "99999                              40.00                          Gers   \n",
      "\n",
      "      piezo_station_commune_code_insee  \\\n",
      "0                                01073   \n",
      "1                                01363   \n",
      "2                                01244   \n",
      "3                                01288   \n",
      "4                                01422   \n",
      "...                                ...   \n",
      "99995                            32398   \n",
      "99996                            32127   \n",
      "99997                            32156   \n",
      "99998                            32115   \n",
      "99999                            32204   \n",
      "\n",
      "                                  piezo_station_pe_label  \\\n",
      "0      PIEZOMETRE - MARAIS DE LAVOURS (CEYZERIEU - BR...   \n",
      "1      PIEZOMETRE - GRAVIERE (ST-JEAN-LE-VIEUX - BRGM...   \n",
      "2      PIEZOMETRE - BORD AUTOROUTE (MEXIMIEUX - BRGM ...   \n",
      "3             PIEZOMETRE - GRENY (PERON - BRGM 01) - BSH   \n",
      "4              FORAGE - ENCLOS (TOSSIAT - BRGM 01) - BSH   \n",
      "...                                                  ...   \n",
      "99995                                    SAINT-MONT - 32   \n",
      "99996                   Puits de las Cabanas (Estang-32)   \n",
      "99997                                  près de Flourette   \n",
      "99998                                        A Seignebon   \n",
      "99999                                                NaN   \n",
      "\n",
      "      piezo_station_bdlisa_codes  piezo_station_altitude  \\\n",
      "0                    ['712AH37']                  232.00   \n",
      "1                    ['712GB05']                  247.25   \n",
      "2                    ['040AJ43']                  218.77   \n",
      "3         ['516AA00', '516AF00']                  499.85   \n",
      "4                    ['507AB00']                  260.00   \n",
      "...                          ...                     ...   \n",
      "99995                ['948AA03']                   96.00   \n",
      "99996                ['312AA05']                  130.00   \n",
      "99997                ['334AC05']                  178.00   \n",
      "99998                ['334AC05']                  155.00   \n",
      "99999                ['344AA12']                  124.00   \n",
      "\n",
      "      piezo_station_bss_code piezo_station_commune_name  ...  \\\n",
      "0           07004X0046/D6-20                  Ceyzérieu  ...   \n",
      "1              06754X0077/F1        Saint-Jean-le-Vieux  ...   \n",
      "2          06993X0226/MEXI_2                  Meximieux  ...   \n",
      "3              06533X0070/F2                      Péron  ...   \n",
      "4              06518X0026/P2                    Tossiat  ...   \n",
      "...                      ...                        ...  ...   \n",
      "99995           09793X0003/F                 Saint-Mont  ...   \n",
      "99996           09523X0034/F                     Estang  ...   \n",
      "99997           10072X0026/F           Idrac-Respaillès  ...   \n",
      "99998           09536X0008/F                       Dému  ...   \n",
      "99999           09546X0009/F                  Lavardens  ...   \n",
      "\n",
      "       piezo_measurement_date  piezo_obtention_mode  \\\n",
      "0                  2020-01-01        Valeur mesurée   \n",
      "1                  2020-01-01        Valeur mesurée   \n",
      "2                  2020-01-01        Valeur mesurée   \n",
      "3                  2020-01-01        Valeur mesurée   \n",
      "4                  2020-01-01        Valeur mesurée   \n",
      "...                       ...                   ...   \n",
      "99995              2020-02-10        Valeur mesurée   \n",
      "99996              2020-02-10        Valeur mesurée   \n",
      "99997              2020-02-10        Valeur mesurée   \n",
      "99998              2020-02-10        Valeur mesurée   \n",
      "99999              2020-02-10        Valeur mesurée   \n",
      "\n",
      "                    piezo_status piezo_qualification piezo_continuity_code  \\\n",
      "0      Donnée contrôlée niveau 2            Correcte                   2.0   \n",
      "1      Donnée contrôlée niveau 2            Correcte                   2.0   \n",
      "2      Donnée contrôlée niveau 2            Correcte                   2.0   \n",
      "3      Donnée contrôlée niveau 2            Correcte                   2.0   \n",
      "4      Donnée contrôlée niveau 2            Correcte                   2.0   \n",
      "...                          ...                 ...                   ...   \n",
      "99995  Donnée contrôlée niveau 2            Correcte                   2.0   \n",
      "99996  Donnée contrôlée niveau 2            Correcte                   2.0   \n",
      "99997  Donnée contrôlée niveau 2            Correcte                   2.0   \n",
      "99998  Donnée contrôlée niveau 2            Correcte                   2.0   \n",
      "99999  Donnée contrôlée niveau 2            Correcte                   2.0   \n",
      "\n",
      "              piezo_continuity_name piezo_producer_code  \\\n",
      "0      Point lié au point précédent               196.0   \n",
      "1      Point lié au point précédent               196.0   \n",
      "2      Point lié au point précédent               196.0   \n",
      "3      Point lié au point précédent               196.0   \n",
      "4      Point lié au point précédent               196.0   \n",
      "...                             ...                 ...   \n",
      "99995  Point lié au point précédent              1275.0   \n",
      "99996  Point lié au point précédent              1275.0   \n",
      "99997  Point lié au point précédent              1275.0   \n",
      "99998  Point lié au point précédent              1275.0   \n",
      "99999  Point lié au point précédent              1275.0   \n",
      "\n",
      "                                 piezo_producer_name  \\\n",
      "0      Service Géologique Régional Rhône-Alpes (196)   \n",
      "1      Service Géologique Régional Rhône-Alpes (196)   \n",
      "2      Service Géologique Régional Rhône-Alpes (196)   \n",
      "3      Service Géologique Régional Rhône-Alpes (196)   \n",
      "4      Service Géologique Régional Rhône-Alpes (196)   \n",
      "...                                              ...   \n",
      "99995                 CONSEIL GENERAL DU GERS (1275)   \n",
      "99996                 CONSEIL GENERAL DU GERS (1275)   \n",
      "99997                 CONSEIL GENERAL DU GERS (1275)   \n",
      "99998                 CONSEIL GENERAL DU GERS (1275)   \n",
      "99999                 CONSEIL GENERAL DU GERS (1275)   \n",
      "\n",
      "       piezo_measure_nature_code piezo_measure_nature_name  \n",
      "0                              N                   Naturel  \n",
      "1                              N                   Naturel  \n",
      "2                              N                   Naturel  \n",
      "3                              N                   Naturel  \n",
      "4                              N                   Naturel  \n",
      "...                          ...                       ...  \n",
      "99995                        NaN                       NaN  \n",
      "99996                        NaN                       NaN  \n",
      "99997                        NaN                       NaN  \n",
      "99998                        NaN                       NaN  \n",
      "99999                        NaN                       NaN  \n",
      "\n",
      "[100000 rows x 24 columns]\n"
     ]
    }
   ],
   "source": [
    "print(df)"
   ]
  },
  {
   "cell_type": "code",
   "execution_count": null,
   "metadata": {},
   "outputs": [],
   "source": [
    "# 1. Traiter les valeurs manquantes\n",
    "# column_filler(df, col, 'mean')\n",
    "\n",
    "\n",
    "# Removing duplicates\n",
    "df.drop_duplicates(inplace=True)"
   ]
  },
  {
   "cell_type": "code",
   "execution_count": 38,
   "metadata": {},
   "outputs": [
    {
     "name": "stdout",
     "output_type": "stream",
     "text": [
      "['piezo_station_investigation_depth', 'piezo_station_pe_label', 'piezo_station_bdlisa_codes', 'piezo_producer_code', 'piezo_producer_name', 'piezo_measure_nature_code', 'piezo_measure_nature_name']\n"
     ]
    },
    {
     "ename": "NameError",
     "evalue": "name 'separate_columns' is not defined",
     "output_type": "error",
     "traceback": [
      "\u001b[0;31m---------------------------------------------------------------------------\u001b[0m",
      "\u001b[0;31mNameError\u001b[0m                                 Traceback (most recent call last)",
      "Cell \u001b[0;32mIn[38], line 2\u001b[0m\n\u001b[1;32m      1\u001b[0m \u001b[38;5;28mprint\u001b[39m(missing_columns)\n\u001b[0;32m----> 2\u001b[0m cat_col, cont_col \u001b[38;5;241m=\u001b[39m \u001b[43mseparate_columns\u001b[49m(df, missing_columns)\n",
      "\u001b[0;31mNameError\u001b[0m: name 'separate_columns' is not defined"
     ]
    }
   ],
   "source": [
    "print(missing_columns)\n",
    "cat_col, cont_col = separate_columns(df, missing_columns)\n"
   ]
  },
  {
   "cell_type": "code",
   "execution_count": null,
   "metadata": {},
   "outputs": [
    {
     "data": {
      "image/png": "[encoded data removed]",
      "text/plain": [
       "<Figure size 1000x600 with 1 Axes>"
      ]
     },
     "metadata": {},
     "output_type": "display_data"
    },
    {
     "name": "stdout",
     "output_type": "stream",
     "text": [
      "['piezo_station_investigation_depth', 'piezo_station_pe_label', 'piezo_station_bdlisa_codes', 'piezo_producer_code', 'piezo_producer_name', 'piezo_measure_nature_code', 'piezo_measure_nature_name']\n"
     ]
    }
   ],
   "source": [
    "plot_variable(df, 'piezo_station_investigation_depth', 'box')"
   ]
  }
 ],
 "metadata": {
  "kernelspec": {
   "display_name": "base",
   "language": "python",
   "name": "python3"
  },
  "language_info": {
   "codemirror_mode": {
    "name": "ipython",
    "version": 3
   },
   "file_extension": ".py",
   "mimetype": "text/x-python",
   "name": "python",
   "nbconvert_exporter": "python",
   "pygments_lexer": "ipython3",
   "version": "3.12.6"
  }
 },
 "nbformat": 4,
 "nbformat_minor": 2
}
