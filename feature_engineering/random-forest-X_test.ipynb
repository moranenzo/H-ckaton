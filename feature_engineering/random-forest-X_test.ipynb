{
 "cells": [
  {
   "cell_type": "markdown",
   "metadata": {},
   "source": [
    "# RANDOM FOREST X_TEST"
   ]
  },
  {
   "cell_type": "code",
   "execution_count": null,
   "metadata": {},
   "outputs": [],
   "source": [
    "df_train_clean = \n",
    "df_test_clean = \n",
    "\n",
    "var = \"piezo_groundwater_level_category\"\n",
    "\n",
    "# 1. Separate explanatory variables (X) and the target variable (y)\n",
    "X = df_clean.drop(columns=[var])\n",
    "y = df_clean[var]\n",
    "\n",
    "# 2. Split the data into training and testing sets\n",
    "X_train, X_test, y_train, y_test = train_test_split(X, y, test_size=0.2, random_state=42)\n",
    "\n",
    "# 3. Apply Random Forest\n",
    "model = RandomForestClassifier(n_estimators=100, random_state=42)\n",
    "model.fit(X_train, y_train)\n",
    "\n",
    "# 4. Display feature importance\n",
    "importances = model.feature_importances_\n",
    "\n",
    "# Create a DataFrame to display the feature importance\n",
    "feature_importance = pd.DataFrame({\n",
    "    'Feature': X.columns,\n",
    "    'Importance': importances\n",
    "})\n",
    "\n",
    "# Sort by descending importance\n",
    "feature_importance = feature_importance.sort_values(by='Importance', ascending=False)\n",
    "\n",
    "# Display the results\n",
    "print(feature_importance)\n",
    "\n",
    "# 5. Visualize feature importance as a bar chart\n",
    "plt.figure(figsize=(10, 6))\n",
    "sns.barplot(x='Importance', y='Feature', data=feature_importance)\n",
    "plt.title('Feature Importance with Random Forest')\n",
    "plt.show()\n",
    "\n",
    "# 6. Predict the target variable on the test set\n",
    "y_pred = model.predict(X_test)\n",
    "\n",
    "# 7. Calculate the F1 score\n",
    "f1 = f1_score(y_test, y_pred, average='weighted')  # For multi-class classification, weighted average\n",
    "print(f'F1 Score: {f1}')"
   ]
  }
 ],
 "metadata": {
  "kernelspec": {
   "display_name": "base",
   "language": "python",
   "name": "python3"
  },
  "language_info": {
   "name": "python",
   "version": "3.12.6"
  }
 },
 "nbformat": 4,
 "nbformat_minor": 2
}
