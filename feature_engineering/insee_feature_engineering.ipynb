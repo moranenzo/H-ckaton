{
 "cells": [
  {
   "cell_type": "markdown",
   "metadata": {},
   "source": [
    "# Load data"
   ]
  },
  {
   "cell_type": "code",
   "execution_count": 3,
   "metadata": {},
   "outputs": [],
   "source": [
    "from pandas import DataFrame, read_csv\n",
    "\n",
    "# Function to load the data\n",
    "def load_data(\n",
    "        data_file: str,\n",
    "        n_rows: int | None = None,\n",
    ") -> DataFrame:\n",
    "    return read_csv(data_file, index_col='row_index', nrows=n_rows)"
   ]
  },
  {
   "cell_type": "code",
   "execution_count": 4,
   "metadata": {},
   "outputs": [
    {
     "name": "stderr",
     "output_type": "stream",
     "text": [
      "C:\\Users\\serra\\AppData\\Local\\Temp\\ipykernel_19144\\3917375069.py:8: DtypeWarning: Columns (108,110,111,115,117,118,122,124,125,130,133,134) have mixed types. Specify dtype option on import or set low_memory=False.\n",
      "  return read_csv(data_file, index_col='row_index', nrows=n_rows)\n",
      "C:\\Users\\serra\\AppData\\Local\\Temp\\ipykernel_19144\\3917375069.py:8: DtypeWarning: Columns (108,110,111,115,117,118,122,124,125,130,133,134) have mixed types. Specify dtype option on import or set low_memory=False.\n",
      "  return read_csv(data_file, index_col='row_index', nrows=n_rows)\n"
     ]
    }
   ],
   "source": [
    "import pandas as pd\n",
    "\n",
    "#train_data = file_manager.load_training_data()\n",
    "\n",
    "# Load the data\n",
    "train_file = '../X_train.csv'\n",
    "test_file = '../X_test.csv'\n",
    "n_rows = 100_000\n",
    "\n",
    "test_data = load_data(test_file)\n",
    "# Load the reduced dataset\n",
    "tiny_train_data = load_data(train_file, n_rows=n_rows)"
   ]
  },
  {
   "cell_type": "markdown",
   "metadata": {},
   "source": [
    "# Split raw data by variable category (piezo, weather, ...)\n",
    "\n",
    "We are only interested in training data."
   ]
  },
  {
   "cell_type": "code",
   "execution_count": 5,
   "metadata": {},
   "outputs": [],
   "source": [
    "from pandas import DataFrame\n",
    "\n",
    "# Function to extract variable category\n",
    "def extract_category(\n",
    "        df: DataFrame,\n",
    "        category: str,\n",
    ") -> DataFrame:\n",
    "    return df[df.columns[df.columns.str.startswith(category)]]"
   ]
  },
  {
   "cell_type": "code",
   "execution_count": 6,
   "metadata": {},
   "outputs": [
    {
     "data": {
      "text/html": [
       "<div>\n",
       "<style scoped>\n",
       "    .dataframe tbody tr th:only-of-type {\n",
       "        vertical-align: middle;\n",
       "    }\n",
       "\n",
       "    .dataframe tbody tr th {\n",
       "        vertical-align: top;\n",
       "    }\n",
       "\n",
       "    .dataframe thead th {\n",
       "        text-align: right;\n",
       "    }\n",
       "</style>\n",
       "<table border=\"1\" class=\"dataframe\">\n",
       "  <thead>\n",
       "    <tr style=\"text-align: right;\">\n",
       "      <th></th>\n",
       "      <th>insee_%_agri</th>\n",
       "      <th>insee_pop_commune</th>\n",
       "      <th>insee_med_living_level</th>\n",
       "      <th>insee_%_ind</th>\n",
       "      <th>insee_%_const</th>\n",
       "    </tr>\n",
       "    <tr>\n",
       "      <th>row_index</th>\n",
       "      <th></th>\n",
       "      <th></th>\n",
       "      <th></th>\n",
       "      <th></th>\n",
       "      <th></th>\n",
       "    </tr>\n",
       "  </thead>\n",
       "  <tbody>\n",
       "    <tr>\n",
       "      <th>39</th>\n",
       "      <td>80</td>\n",
       "      <td>119.0</td>\n",
       "      <td>16180</td>\n",
       "      <td>0</td>\n",
       "      <td>0</td>\n",
       "    </tr>\n",
       "    <tr>\n",
       "      <th>62</th>\n",
       "      <td>2.3</td>\n",
       "      <td>733.0</td>\n",
       "      <td>20830</td>\n",
       "      <td>0</td>\n",
       "      <td>1.1</td>\n",
       "    </tr>\n",
       "    <tr>\n",
       "      <th>148</th>\n",
       "      <td>0.3</td>\n",
       "      <td>3868.0</td>\n",
       "      <td>21990</td>\n",
       "      <td>40.6</td>\n",
       "      <td>5.1</td>\n",
       "    </tr>\n",
       "    <tr>\n",
       "      <th>177</th>\n",
       "      <td>25.9</td>\n",
       "      <td>581.0</td>\n",
       "      <td>19200</td>\n",
       "      <td>14.8</td>\n",
       "      <td>3.7</td>\n",
       "    </tr>\n",
       "    <tr>\n",
       "      <th>179</th>\n",
       "      <td>18.4</td>\n",
       "      <td>511.0</td>\n",
       "      <td>20470</td>\n",
       "      <td>0</td>\n",
       "      <td>24.5</td>\n",
       "    </tr>\n",
       "  </tbody>\n",
       "</table>\n",
       "</div>"
      ],
      "text/plain": [
       "          insee_%_agri  insee_pop_commune insee_med_living_level insee_%_ind  \\\n",
       "row_index                                                                      \n",
       "39                  80              119.0                  16180           0   \n",
       "62                 2.3              733.0                  20830           0   \n",
       "148                0.3             3868.0                  21990        40.6   \n",
       "177               25.9              581.0                  19200        14.8   \n",
       "179               18.4              511.0                  20470           0   \n",
       "\n",
       "          insee_%_const  \n",
       "row_index                \n",
       "39                    0  \n",
       "62                  1.1  \n",
       "148                 5.1  \n",
       "177                 3.7  \n",
       "179                24.5  "
      ]
     },
     "execution_count": 6,
     "metadata": {},
     "output_type": "execute_result"
    }
   ],
   "source": [
    "# Display examples from the insee variables\n",
    "insee_variables = extract_category(tiny_train_data, 'insee')\n",
    "insee_variables.head()"
   ]
  },
  {
   "cell_type": "markdown",
   "metadata": {},
   "source": [
    "# Insee Information"
   ]
  },
  {
   "cell_type": "code",
   "execution_count": 7,
   "metadata": {},
   "outputs": [
    {
     "name": "stdout",
     "output_type": "stream",
     "text": [
      "<class 'pandas.core.frame.DataFrame'>\n",
      "Index: 100000 entries, 39 to 3293997\n",
      "Data columns (total 5 columns):\n",
      " #   Column                  Non-Null Count  Dtype  \n",
      "---  ------                  --------------  -----  \n",
      " 0   insee_%_agri            99007 non-null  object \n",
      " 1   insee_pop_commune       99007 non-null  float64\n",
      " 2   insee_med_living_level  99007 non-null  object \n",
      " 3   insee_%_ind             99007 non-null  object \n",
      " 4   insee_%_const           99007 non-null  object \n",
      "dtypes: float64(1), object(4)\n",
      "memory usage: 4.6+ MB\n"
     ]
    }
   ],
   "source": [
    "# Display information about the insee variables\n",
    "insee_variables.info()"
   ]
  }
 ],
 "metadata": {
  "kernelspec": {
   "display_name": "base",
   "language": "python",
   "name": "python3"
  },
  "language_info": {
   "codemirror_mode": {
    "name": "ipython",
    "version": 3
   },
   "file_extension": ".py",
   "mimetype": "text/x-python",
   "name": "python",
   "nbconvert_exporter": "python",
   "pygments_lexer": "ipython3",
   "version": "3.11.5"
  }
 },
 "nbformat": 4,
 "nbformat_minor": 4
}
