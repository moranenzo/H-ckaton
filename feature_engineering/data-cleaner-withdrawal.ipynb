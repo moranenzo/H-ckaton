{
 "cells": [
  {
   "cell_type": "markdown",
   "metadata": {},
   "source": [
    "# CLEANING WITHDRAWAL VARIABLES"
   ]
  },
  {
   "cell_type": "markdown",
   "metadata": {},
   "source": [
    "Data Cleaning is the first step of any Data Science project and can sometimes be very time consuming.\n",
    "It involves identifying and correcting errors, inconsistencies or incomplete data within a dataset.\n",
    "\n",
    "1. Handle missing values\n",
    "2. Remove duplicates/irrelevant or hard to preprocess variables\n",
    "3. Clean text data with an incorrect format"
   ]
  },
  {
   "cell_type": "code",
   "execution_count": 1,
   "metadata": {},
   "outputs": [
    {
     "name": "stdout",
     "output_type": "stream",
     "text": [
      "Requirement already satisfied: matplotlib in /opt/conda/lib/python3.12/site-packages (3.9.2)\n",
      "Requirement already satisfied: seaborn in /opt/conda/lib/python3.12/site-packages (0.13.2)\n",
      "Requirement already satisfied: contourpy>=1.0.1 in /opt/conda/lib/python3.12/site-packages (from matplotlib) (1.3.0)\n",
      "Requirement already satisfied: cycler>=0.10 in /opt/conda/lib/python3.12/site-packages (from matplotlib) (0.12.1)\n",
      "Requirement already satisfied: fonttools>=4.22.0 in /opt/conda/lib/python3.12/site-packages (from matplotlib) (4.54.1)\n",
      "Requirement already satisfied: kiwisolver>=1.3.1 in /opt/conda/lib/python3.12/site-packages (from matplotlib) (1.4.7)\n",
      "Requirement already satisfied: numpy>=1.23 in /opt/conda/lib/python3.12/site-packages (from matplotlib) (2.1.3)\n",
      "Requirement already satisfied: packaging>=20.0 in /opt/conda/lib/python3.12/site-packages (from matplotlib) (24.1)\n",
      "Requirement already satisfied: pillow>=8 in /opt/conda/lib/python3.12/site-packages (from matplotlib) (11.0.0)\n",
      "Requirement already satisfied: pyparsing>=2.3.1 in /opt/conda/lib/python3.12/site-packages (from matplotlib) (3.2.0)\n",
      "Requirement already satisfied: python-dateutil>=2.7 in /opt/conda/lib/python3.12/site-packages (from matplotlib) (2.9.0)\n",
      "Requirement already satisfied: pandas>=1.2 in /opt/conda/lib/python3.12/site-packages (from seaborn) (2.2.3)\n",
      "Requirement already satisfied: pytz>=2020.1 in /opt/conda/lib/python3.12/site-packages (from pandas>=1.2->seaborn) (2024.1)\n",
      "Requirement already satisfied: tzdata>=2022.7 in /opt/conda/lib/python3.12/site-packages (from pandas>=1.2->seaborn) (2024.2)\n",
      "Requirement already satisfied: six>=1.5 in /opt/conda/lib/python3.12/site-packages (from python-dateutil>=2.7->matplotlib) (1.16.0)\n",
      "Note: you may need to restart the kernel to use updated packages.\n"
     ]
    }
   ],
   "source": [
    "pip install matplotlib seaborn"
   ]
  },
  {
   "cell_type": "code",
   "execution_count": 2,
   "metadata": {},
   "outputs": [],
   "source": [
    "import pandas as pd\n",
    "import numpy as np\n",
    "import matplotlib.pyplot as plt\n",
    "import seaborn as sns\n",
    "from sklearn.metrics import f1_score\n",
    "from sklearn.ensemble import RandomForestClassifier\n",
    "from sklearn.model_selection import train_test_split\n",
    "from sklearn.preprocessing import LabelEncoder\n",
    "from utils import *"
   ]
  },
  {
   "cell_type": "code",
   "execution_count": 26,
   "metadata": {},
   "outputs": [
    {
     "name": "stderr",
     "output_type": "stream",
     "text": [
      "/tmp/ipykernel_14074/937412682.py:1: DtypeWarning: Columns (108,110,111,115,117,118,122,124,125) have mixed types. Specify dtype option on import or set low_memory=False.\n",
      "  df_train = pd.read_csv('../X_train_Hi5.csv')\n",
      "/tmp/ipykernel_14074/937412682.py:2: DtypeWarning: Columns (1,5,108,110,111,115,117,118,122,124,125) have mixed types. Specify dtype option on import or set low_memory=False.\n",
      "  df_test = pd.read_csv('../X_test_Hi5.csv')\n"
     ]
    }
   ],
   "source": [
    "df_train = pd.read_csv('../X_train_Hi5.csv')\n",
    "df_test = pd.read_csv('../X_test_Hi5.csv')\n"
   ]
  },
  {
   "cell_type": "code",
   "execution_count": 27,
   "metadata": {},
   "outputs": [
    {
     "name": "stderr",
     "output_type": "stream",
     "text": [
      "/tmp/ipykernel_14074/511082725.py:2: SettingWithCopyWarning: \n",
      "A value is trying to be set on a copy of a slice from a DataFrame.\n",
      "Try using .loc[row_indexer,col_indexer] = value instead\n",
      "\n",
      "See the caveats in the documentation: https://pandas.pydata.org/pandas-docs/stable/user_guide/indexing.html#returning-a-view-versus-a-copy\n",
      "  df['piezo_groundwater_level_category'] = df_train['piezo_groundwater_level_category']\n"
     ]
    }
   ],
   "source": [
    "df = df_train.filter(regex='^prelev')\n",
    "df['piezo_groundwater_level_category'] = df_train['piezo_groundwater_level_category']"
   ]
  },
  {
   "cell_type": "code",
   "execution_count": 28,
   "metadata": {},
   "outputs": [],
   "source": [
    "# Affichage des noms des variables\n",
    "variables = df.columns.tolist()"
   ]
  },
  {
   "cell_type": "markdown",
   "metadata": {},
   "source": [
    "The `.info()` function allows you to check:\n",
    "\n",
    "1. The number of \"non-null\" values (number of rows without a NaN value)\n",
    "2. The data type (or dtype of each column)\n",
    "3. The number of rows and the columns present in the dataset"
   ]
  },
  {
   "cell_type": "code",
   "execution_count": 29,
   "metadata": {},
   "outputs": [
    {
     "data": {
      "text/html": [
       "<div>\n",
       "<style scoped>\n",
       "    .dataframe tbody tr th:only-of-type {\n",
       "        vertical-align: middle;\n",
       "    }\n",
       "\n",
       "    .dataframe tbody tr th {\n",
       "        vertical-align: top;\n",
       "    }\n",
       "\n",
       "    .dataframe thead th {\n",
       "        text-align: right;\n",
       "    }\n",
       "</style>\n",
       "<table border=\"1\" class=\"dataframe\">\n",
       "  <thead>\n",
       "    <tr style=\"text-align: right;\">\n",
       "      <th></th>\n",
       "      <th>prelev_structure_code_0</th>\n",
       "      <th>prelev_volume_0</th>\n",
       "      <th>prelev_usage_label_0</th>\n",
       "      <th>prelev_volume_obtention_mode_label_0</th>\n",
       "      <th>prelev_longitude_0</th>\n",
       "      <th>prelev_latitude_0</th>\n",
       "      <th>prelev_commune_code_insee_0</th>\n",
       "      <th>prelev_structure_code_1</th>\n",
       "      <th>prelev_volume_1</th>\n",
       "      <th>prelev_usage_label_1</th>\n",
       "      <th>...</th>\n",
       "      <th>prelev_commune_code_insee_1</th>\n",
       "      <th>prelev_structure_code_2</th>\n",
       "      <th>prelev_volume_2</th>\n",
       "      <th>prelev_usage_label_2</th>\n",
       "      <th>prelev_volume_obtention_mode_label_2</th>\n",
       "      <th>prelev_longitude_2</th>\n",
       "      <th>prelev_latitude_2</th>\n",
       "      <th>prelev_commune_code_insee_2</th>\n",
       "      <th>prelev_other_volume_sum</th>\n",
       "      <th>piezo_groundwater_level_category</th>\n",
       "    </tr>\n",
       "  </thead>\n",
       "  <tbody>\n",
       "    <tr>\n",
       "      <th>0</th>\n",
       "      <td>OPR0000048924</td>\n",
       "      <td>1.074315e+10</td>\n",
       "      <td>EAU TURBINEE (barrage)</td>\n",
       "      <td>Mesure indirecte</td>\n",
       "      <td>5.811394</td>\n",
       "      <td>45.878862</td>\n",
       "      <td>1010.0</td>\n",
       "      <td>OPR0000048938</td>\n",
       "      <td>1.060828e+10</td>\n",
       "      <td>EAU TURBINEE (barrage)</td>\n",
       "      <td>...</td>\n",
       "      <td>1407.0</td>\n",
       "      <td>OPR0000048941</td>\n",
       "      <td>1.038098e+10</td>\n",
       "      <td>EAU TURBINEE (barrage)</td>\n",
       "      <td>Mesure indirecte</td>\n",
       "      <td>5.698947</td>\n",
       "      <td>45.725106</td>\n",
       "      <td>1454.0</td>\n",
       "      <td>1.793055e+09</td>\n",
       "      <td>High</td>\n",
       "    </tr>\n",
       "    <tr>\n",
       "      <th>1</th>\n",
       "      <td>OPR0000048937</td>\n",
       "      <td>1.249202e+10</td>\n",
       "      <td>EAU TURBINEE (barrage)</td>\n",
       "      <td>Mesure indirecte</td>\n",
       "      <td>5.405995</td>\n",
       "      <td>45.853165</td>\n",
       "      <td>1396.0</td>\n",
       "      <td>OPR0000048934</td>\n",
       "      <td>2.206200e+09</td>\n",
       "      <td>EAU TURBINEE (barrage)</td>\n",
       "      <td>...</td>\n",
       "      <td>1303.0</td>\n",
       "      <td>OPR0000048925</td>\n",
       "      <td>1.818150e+09</td>\n",
       "      <td>EAU TURBINEE (barrage)</td>\n",
       "      <td>Mesure indirecte</td>\n",
       "      <td>5.464933</td>\n",
       "      <td>46.210734</td>\n",
       "      <td>1051.0</td>\n",
       "      <td>1.085125e+09</td>\n",
       "      <td>Very High</td>\n",
       "    </tr>\n",
       "    <tr>\n",
       "      <th>2</th>\n",
       "      <td>OPR0000048937</td>\n",
       "      <td>1.249202e+10</td>\n",
       "      <td>EAU TURBINEE (barrage)</td>\n",
       "      <td>Mesure indirecte</td>\n",
       "      <td>5.405995</td>\n",
       "      <td>45.853165</td>\n",
       "      <td>1396.0</td>\n",
       "      <td>OPR0000124916</td>\n",
       "      <td>1.572484e+09</td>\n",
       "      <td>ENERGIE</td>\n",
       "      <td>...</td>\n",
       "      <td>1390.0</td>\n",
       "      <td>OPR0000049346</td>\n",
       "      <td>6.981240e+08</td>\n",
       "      <td>EAU TURBINEE (barrage)</td>\n",
       "      <td>Mesure indirecte</td>\n",
       "      <td>5.085060</td>\n",
       "      <td>45.812828</td>\n",
       "      <td>69266.0</td>\n",
       "      <td>3.810492e+08</td>\n",
       "      <td>High</td>\n",
       "    </tr>\n",
       "    <tr>\n",
       "      <th>3</th>\n",
       "      <td>OPR0000048929</td>\n",
       "      <td>1.038289e+10</td>\n",
       "      <td>EAU TURBINEE (barrage)</td>\n",
       "      <td>Mesure indirecte</td>\n",
       "      <td>5.812855</td>\n",
       "      <td>46.052623</td>\n",
       "      <td>1189.0</td>\n",
       "      <td>OPR0000048935</td>\n",
       "      <td>3.667774e+09</td>\n",
       "      <td>EAU TURBINEE (barrage)</td>\n",
       "      <td>...</td>\n",
       "      <td>1308.0</td>\n",
       "      <td>OPR0000049285</td>\n",
       "      <td>1.843691e+08</td>\n",
       "      <td>EAU TURBINEE (barrage)</td>\n",
       "      <td>Mesure indirecte</td>\n",
       "      <td>5.802841</td>\n",
       "      <td>46.366049</td>\n",
       "      <td>39286.0</td>\n",
       "      <td>3.800911e+08</td>\n",
       "      <td>Very High</td>\n",
       "    </tr>\n",
       "    <tr>\n",
       "      <th>4</th>\n",
       "      <td>OPR0000048934</td>\n",
       "      <td>2.206200e+09</td>\n",
       "      <td>EAU TURBINEE (barrage)</td>\n",
       "      <td>Mesure indirecte</td>\n",
       "      <td>5.421808</td>\n",
       "      <td>46.112020</td>\n",
       "      <td>1303.0</td>\n",
       "      <td>OPR0000048925</td>\n",
       "      <td>1.818150e+09</td>\n",
       "      <td>EAU TURBINEE (barrage)</td>\n",
       "      <td>...</td>\n",
       "      <td>1051.0</td>\n",
       "      <td>OPR0000048932</td>\n",
       "      <td>9.263080e+08</td>\n",
       "      <td>EAU TURBINEE (barrage)</td>\n",
       "      <td>Mesure indirecte</td>\n",
       "      <td>5.377265</td>\n",
       "      <td>46.080989</td>\n",
       "      <td>1273.0</td>\n",
       "      <td>1.966631e+07</td>\n",
       "      <td>Very Low</td>\n",
       "    </tr>\n",
       "  </tbody>\n",
       "</table>\n",
       "<p>5 rows × 23 columns</p>\n",
       "</div>"
      ],
      "text/plain": [
       "  prelev_structure_code_0  prelev_volume_0    prelev_usage_label_0  \\\n",
       "0           OPR0000048924     1.074315e+10  EAU TURBINEE (barrage)   \n",
       "1           OPR0000048937     1.249202e+10  EAU TURBINEE (barrage)   \n",
       "2           OPR0000048937     1.249202e+10  EAU TURBINEE (barrage)   \n",
       "3           OPR0000048929     1.038289e+10  EAU TURBINEE (barrage)   \n",
       "4           OPR0000048934     2.206200e+09  EAU TURBINEE (barrage)   \n",
       "\n",
       "  prelev_volume_obtention_mode_label_0  prelev_longitude_0  prelev_latitude_0  \\\n",
       "0                     Mesure indirecte            5.811394          45.878862   \n",
       "1                     Mesure indirecte            5.405995          45.853165   \n",
       "2                     Mesure indirecte            5.405995          45.853165   \n",
       "3                     Mesure indirecte            5.812855          46.052623   \n",
       "4                     Mesure indirecte            5.421808          46.112020   \n",
       "\n",
       "   prelev_commune_code_insee_0 prelev_structure_code_1  prelev_volume_1  \\\n",
       "0                       1010.0           OPR0000048938     1.060828e+10   \n",
       "1                       1396.0           OPR0000048934     2.206200e+09   \n",
       "2                       1396.0           OPR0000124916     1.572484e+09   \n",
       "3                       1189.0           OPR0000048935     3.667774e+09   \n",
       "4                       1303.0           OPR0000048925     1.818150e+09   \n",
       "\n",
       "     prelev_usage_label_1  ... prelev_commune_code_insee_1  \\\n",
       "0  EAU TURBINEE (barrage)  ...                      1407.0   \n",
       "1  EAU TURBINEE (barrage)  ...                      1303.0   \n",
       "2                 ENERGIE  ...                      1390.0   \n",
       "3  EAU TURBINEE (barrage)  ...                      1308.0   \n",
       "4  EAU TURBINEE (barrage)  ...                      1051.0   \n",
       "\n",
       "   prelev_structure_code_2  prelev_volume_2    prelev_usage_label_2  \\\n",
       "0            OPR0000048941     1.038098e+10  EAU TURBINEE (barrage)   \n",
       "1            OPR0000048925     1.818150e+09  EAU TURBINEE (barrage)   \n",
       "2            OPR0000049346     6.981240e+08  EAU TURBINEE (barrage)   \n",
       "3            OPR0000049285     1.843691e+08  EAU TURBINEE (barrage)   \n",
       "4            OPR0000048932     9.263080e+08  EAU TURBINEE (barrage)   \n",
       "\n",
       "  prelev_volume_obtention_mode_label_2  prelev_longitude_2 prelev_latitude_2  \\\n",
       "0                     Mesure indirecte            5.698947         45.725106   \n",
       "1                     Mesure indirecte            5.464933         46.210734   \n",
       "2                     Mesure indirecte            5.085060         45.812828   \n",
       "3                     Mesure indirecte            5.802841         46.366049   \n",
       "4                     Mesure indirecte            5.377265         46.080989   \n",
       "\n",
       "  prelev_commune_code_insee_2  prelev_other_volume_sum  \\\n",
       "0                      1454.0             1.793055e+09   \n",
       "1                      1051.0             1.085125e+09   \n",
       "2                     69266.0             3.810492e+08   \n",
       "3                     39286.0             3.800911e+08   \n",
       "4                      1273.0             1.966631e+07   \n",
       "\n",
       "   piezo_groundwater_level_category  \n",
       "0                              High  \n",
       "1                         Very High  \n",
       "2                              High  \n",
       "3                         Very High  \n",
       "4                          Very Low  \n",
       "\n",
       "[5 rows x 23 columns]"
      ]
     },
     "execution_count": 29,
     "metadata": {},
     "output_type": "execute_result"
    }
   ],
   "source": [
    "df.head()"
   ]
  },
  {
   "cell_type": "code",
   "execution_count": 30,
   "metadata": {},
   "outputs": [
    {
     "data": {
      "text/plain": [
       "prelev_structure_code_0                 552769\n",
       "prelev_volume_0                         552769\n",
       "prelev_usage_label_0                    552769\n",
       "prelev_volume_obtention_mode_label_0    552769\n",
       "prelev_longitude_0                      552769\n",
       "prelev_latitude_0                       552769\n",
       "prelev_commune_code_insee_0             552769\n",
       "prelev_structure_code_1                 553498\n",
       "prelev_volume_1                         553498\n",
       "prelev_usage_label_1                    553498\n",
       "prelev_volume_obtention_mode_label_1    553498\n",
       "prelev_longitude_1                      553498\n",
       "prelev_latitude_1                       553498\n",
       "prelev_commune_code_insee_1             553498\n",
       "prelev_structure_code_2                 555930\n",
       "prelev_volume_2                         555930\n",
       "prelev_usage_label_2                    555930\n",
       "prelev_volume_obtention_mode_label_2    555930\n",
       "prelev_longitude_2                      555930\n",
       "prelev_latitude_2                       555930\n",
       "prelev_commune_code_insee_2             555930\n",
       "prelev_other_volume_sum                 379161\n",
       "piezo_groundwater_level_category             0\n",
       "dtype: int64"
      ]
     },
     "execution_count": 30,
     "metadata": {},
     "output_type": "execute_result"
    }
   ],
   "source": [
    "df.isnull().sum()"
   ]
  },
  {
   "cell_type": "markdown",
   "metadata": {},
   "source": [
    "## 1. Data Processing"
   ]
  },
  {
   "cell_type": "markdown",
   "metadata": {},
   "source": [
    "Real-word data often contains missing values. This can be due to technical failures, data entry issues, incompatible data formats or even intentional omissions (for privacy concerns). Examples include a lack of response to a survey or equipment failures when collecting data.\n",
    "\n",
    "Here is a list of strategies to handle missing values:\n",
    "\n",
    "- Replace NaN with the mean or median value (for continuous data)\n",
    "- Replace NaN with the most frequent value (for categorical data)\n",
    "- Create a new category for the missing values (for categorical data)\n",
    "- Use a Machine Learning model to predict the missing values (KNN, Random Forest,...)"
   ]
  },
  {
   "cell_type": "markdown",
   "metadata": {},
   "source": [
    "### Selection of variables with missing values"
   ]
  },
  {
   "cell_type": "markdown",
   "metadata": {},
   "source": [
    "This code identifies and prints the names of columns that contain missing (NaN) values in the DataFrame, helping to detect and address missing data."
   ]
  },
  {
   "cell_type": "code",
   "execution_count": 31,
   "metadata": {},
   "outputs": [
    {
     "name": "stdout",
     "output_type": "stream",
     "text": [
      "['prelev_structure_code_0', 'prelev_volume_0', 'prelev_usage_label_0', 'prelev_volume_obtention_mode_label_0', 'prelev_longitude_0', 'prelev_latitude_0', 'prelev_commune_code_insee_0', 'prelev_structure_code_1', 'prelev_volume_1', 'prelev_usage_label_1', 'prelev_volume_obtention_mode_label_1', 'prelev_longitude_1', 'prelev_latitude_1', 'prelev_commune_code_insee_1', 'prelev_structure_code_2', 'prelev_volume_2', 'prelev_usage_label_2', 'prelev_volume_obtention_mode_label_2', 'prelev_longitude_2', 'prelev_latitude_2', 'prelev_commune_code_insee_2', 'prelev_other_volume_sum']\n"
     ]
    }
   ],
   "source": [
    "missing_columns = df.columns[df.isna().sum() > 0].tolist()\n",
    "print(missing_columns)"
   ]
  },
  {
   "cell_type": "markdown",
   "metadata": {},
   "source": [
    "### Standardization of object-type columns"
   ]
  },
  {
   "cell_type": "markdown",
   "metadata": {},
   "source": [
    "Standardization of `object-type` columns and columns names (not required here as long as features are already standardized)"
   ]
  },
  {
   "cell_type": "code",
   "execution_count": 32,
   "metadata": {},
   "outputs": [
    {
     "name": "stderr",
     "output_type": "stream",
     "text": [
      "/tmp/ipykernel_14074/3121806354.py:3: SettingWithCopyWarning: \n",
      "A value is trying to be set on a copy of a slice from a DataFrame.\n",
      "Try using .loc[row_indexer,col_indexer] = value instead\n",
      "\n",
      "See the caveats in the documentation: https://pandas.pydata.org/pandas-docs/stable/user_guide/indexing.html#returning-a-view-versus-a-copy\n",
      "  df[col] = df[col].str.lower().str.strip()\n",
      "/tmp/ipykernel_14074/3121806354.py:6: SettingWithCopyWarning: \n",
      "A value is trying to be set on a copy of a slice from a DataFrame\n",
      "\n",
      "See the caveats in the documentation: https://pandas.pydata.org/pandas-docs/stable/user_guide/indexing.html#returning-a-view-versus-a-copy\n",
      "  df.rename(columns=lambda x: x.strip().lower().replace(' ', '_'), inplace=True)\n"
     ]
    }
   ],
   "source": [
    "# Standardize object-type columns\n",
    "for col in df.select_dtypes(include='object').columns:\n",
    "    df[col] = df[col].str.lower().str.strip()\n",
    "\n",
    "# Standardize column names to simplify their manipulation\n",
    "df.rename(columns=lambda x: x.strip().lower().replace(' ', '_'), inplace=True)"
   ]
  },
  {
   "cell_type": "markdown",
   "metadata": {},
   "source": [
    "### Duplicates"
   ]
  },
  {
   "cell_type": "markdown",
   "metadata": {},
   "source": [
    "This removes duplicate rows from the DataFrame, ensuring that each row is unique. It's useful to avoid redundancy and improve the quality of the data before further analysis or modeling."
   ]
  },
  {
   "cell_type": "code",
   "execution_count": 33,
   "metadata": {},
   "outputs": [
    {
     "name": "stderr",
     "output_type": "stream",
     "text": [
      "/tmp/ipykernel_14074/3006716147.py:1: SettingWithCopyWarning: \n",
      "A value is trying to be set on a copy of a slice from a DataFrame\n",
      "\n",
      "See the caveats in the documentation: https://pandas.pydata.org/pandas-docs/stable/user_guide/indexing.html#returning-a-view-versus-a-copy\n",
      "  df.drop_duplicates(inplace=True)\n"
     ]
    }
   ],
   "source": [
    "df.drop_duplicates(inplace=True)"
   ]
  },
  {
   "cell_type": "markdown",
   "metadata": {},
   "source": [
    "### Features analysis"
   ]
  },
  {
   "cell_type": "code",
   "execution_count": 34,
   "metadata": {},
   "outputs": [
    {
     "name": "stdout",
     "output_type": "stream",
     "text": [
      "1048 prelev_structure_code_0\n",
      "7 prelev_usage_label_0\n",
      "6 prelev_volume_obtention_mode_label_0\n",
      "1488 prelev_structure_code_1\n",
      "7 prelev_usage_label_1\n",
      "6 prelev_volume_obtention_mode_label_1\n",
      "1815 prelev_structure_code_2\n",
      "7 prelev_usage_label_2\n",
      "6 prelev_volume_obtention_mode_label_2\n",
      "5 piezo_groundwater_level_category\n"
     ]
    }
   ],
   "source": [
    "for var in variables:\n",
    "    if df[var].dtype == 'object':\n",
    "        print(len(df[var].unique()), var)"
   ]
  },
  {
   "cell_type": "markdown",
   "metadata": {},
   "source": [
    "prelev_structure_code_0, prelev_structure_code_1 and prelev_structure_code_2 all have too much categories."
   ]
  },
  {
   "cell_type": "code",
   "execution_count": 35,
   "metadata": {},
   "outputs": [],
   "source": [
    "# We take off prelev_structure_code_0, prelev_structure_code_1 and prelev_structure_code_2\n",
    "keeped_features = ['prelev_volume_0', 'prelev_usage_label_0', 'prelev_volume_obtention_mode_label_0', 'prelev_longitude_0', 'prelev_latitude_0', 'prelev_commune_code_insee_0', 'prelev_volume_1', 'prelev_usage_label_1', 'prelev_volume_obtention_mode_label_1', 'prelev_longitude_1', 'prelev_latitude_1', 'prelev_commune_code_insee_1', 'prelev_volume_2', 'prelev_usage_label_2', 'prelev_volume_obtention_mode_label_2', 'prelev_longitude_2', 'prelev_latitude_2', 'prelev_commune_code_insee_2', 'prelev_other_volume_sum', 'piezo_groundwater_level_category']"
   ]
  },
  {
   "cell_type": "markdown",
   "metadata": {},
   "source": [
    "### Categorical features processing"
   ]
  },
  {
   "cell_type": "code",
   "execution_count": 36,
   "metadata": {},
   "outputs": [
    {
     "name": "stderr",
     "output_type": "stream",
     "text": [
      "/tmp/ipykernel_14074/624229002.py:6: SettingWithCopyWarning: \n",
      "A value is trying to be set on a copy of a slice from a DataFrame.\n",
      "Try using .loc[row_indexer,col_indexer] = value instead\n",
      "\n",
      "See the caveats in the documentation: https://pandas.pydata.org/pandas-docs/stable/user_guide/indexing.html#returning-a-view-versus-a-copy\n",
      "  df_clean[col] = le.fit_transform(df_clean[col])\n",
      "/tmp/ipykernel_14074/624229002.py:6: SettingWithCopyWarning: \n",
      "A value is trying to be set on a copy of a slice from a DataFrame.\n",
      "Try using .loc[row_indexer,col_indexer] = value instead\n",
      "\n",
      "See the caveats in the documentation: https://pandas.pydata.org/pandas-docs/stable/user_guide/indexing.html#returning-a-view-versus-a-copy\n",
      "  df_clean[col] = le.fit_transform(df_clean[col])\n",
      "/tmp/ipykernel_14074/624229002.py:6: SettingWithCopyWarning: \n",
      "A value is trying to be set on a copy of a slice from a DataFrame.\n",
      "Try using .loc[row_indexer,col_indexer] = value instead\n",
      "\n",
      "See the caveats in the documentation: https://pandas.pydata.org/pandas-docs/stable/user_guide/indexing.html#returning-a-view-versus-a-copy\n",
      "  df_clean[col] = le.fit_transform(df_clean[col])\n",
      "/tmp/ipykernel_14074/624229002.py:6: SettingWithCopyWarning: \n",
      "A value is trying to be set on a copy of a slice from a DataFrame.\n",
      "Try using .loc[row_indexer,col_indexer] = value instead\n",
      "\n",
      "See the caveats in the documentation: https://pandas.pydata.org/pandas-docs/stable/user_guide/indexing.html#returning-a-view-versus-a-copy\n",
      "  df_clean[col] = le.fit_transform(df_clean[col])\n",
      "/tmp/ipykernel_14074/624229002.py:6: SettingWithCopyWarning: \n",
      "A value is trying to be set on a copy of a slice from a DataFrame.\n",
      "Try using .loc[row_indexer,col_indexer] = value instead\n",
      "\n",
      "See the caveats in the documentation: https://pandas.pydata.org/pandas-docs/stable/user_guide/indexing.html#returning-a-view-versus-a-copy\n",
      "  df_clean[col] = le.fit_transform(df_clean[col])\n",
      "/tmp/ipykernel_14074/624229002.py:6: SettingWithCopyWarning: \n",
      "A value is trying to be set on a copy of a slice from a DataFrame.\n",
      "Try using .loc[row_indexer,col_indexer] = value instead\n",
      "\n",
      "See the caveats in the documentation: https://pandas.pydata.org/pandas-docs/stable/user_guide/indexing.html#returning-a-view-versus-a-copy\n",
      "  df_clean[col] = le.fit_transform(df_clean[col])\n",
      "/tmp/ipykernel_14074/624229002.py:6: SettingWithCopyWarning: \n",
      "A value is trying to be set on a copy of a slice from a DataFrame.\n",
      "Try using .loc[row_indexer,col_indexer] = value instead\n",
      "\n",
      "See the caveats in the documentation: https://pandas.pydata.org/pandas-docs/stable/user_guide/indexing.html#returning-a-view-versus-a-copy\n",
      "  df_clean[col] = le.fit_transform(df_clean[col])\n"
     ]
    }
   ],
   "source": [
    "df_clean = df[keeped_features]\n",
    "\n",
    "# Encode categorical variables using LabelEncoder\n",
    "le = LabelEncoder()\n",
    "for col in df_clean.select_dtypes(include=['object']).columns:\n",
    "    df_clean[col] = le.fit_transform(df_clean[col])"
   ]
  },
  {
   "cell_type": "markdown",
   "metadata": {},
   "source": [
    "# Interesting Features Selection"
   ]
  },
  {
   "cell_type": "markdown",
   "metadata": {},
   "source": [
    "This code aims to analyze the importance of certain features to predict `piezo_groundwater_level_category`."
   ]
  },
  {
   "cell_type": "code",
   "execution_count": 37,
   "metadata": {},
   "outputs": [
    {
     "name": "stdout",
     "output_type": "stream",
     "text": [
      "                                 Feature  Importance\n",
      "18               prelev_other_volume_sum    0.435252\n",
      "12                       prelev_volume_2    0.078493\n",
      "0                        prelev_volume_0    0.071750\n",
      "6                        prelev_volume_1    0.070949\n",
      "17           prelev_commune_code_insee_2    0.041900\n",
      "15                    prelev_longitude_2    0.040724\n",
      "16                     prelev_latitude_2    0.040539\n",
      "11           prelev_commune_code_insee_1    0.032472\n",
      "9                     prelev_longitude_1    0.031734\n",
      "10                     prelev_latitude_1    0.031420\n",
      "5            prelev_commune_code_insee_0    0.028720\n",
      "3                     prelev_longitude_0    0.027162\n",
      "4                      prelev_latitude_0    0.026435\n",
      "13                  prelev_usage_label_2    0.011494\n",
      "7                   prelev_usage_label_1    0.008710\n",
      "1                   prelev_usage_label_0    0.008543\n",
      "14  prelev_volume_obtention_mode_label_2    0.004940\n",
      "2   prelev_volume_obtention_mode_label_0    0.004562\n",
      "8   prelev_volume_obtention_mode_label_1    0.004201\n"
     ]
    },
    {
     "data": {
      "image/png": "[encoded data removed]",
      "text/plain": [
       "<Figure size 1000x600 with 1 Axes>"
      ]
     },
     "metadata": {},
     "output_type": "display_data"
    },
    {
     "name": "stdout",
     "output_type": "stream",
     "text": [
      "F1 Score: 0.007320109686374618\n"
     ]
    }
   ],
   "source": [
    "var = \"piezo_groundwater_level_category\"\n",
    "\n",
    "# 1. Separate explanatory variables (X) and the target variable (y)\n",
    "X = df_clean.drop(columns=[var])\n",
    "y = df_clean[var]\n",
    "\n",
    "# 2. Split the data into training and testing sets\n",
    "X_train, X_test, y_train, y_test = train_test_split(X, y, test_size=0.2, random_state=42)\n",
    "\n",
    "# 3. Apply Random Forest\n",
    "model = RandomForestClassifier(n_estimators=100, random_state=42)\n",
    "model.fit(X_train, y_train)\n",
    "\n",
    "# 4. Display feature importance\n",
    "importances = model.feature_importances_\n",
    "\n",
    "# Create a DataFrame to display the feature importance\n",
    "feature_importance = pd.DataFrame({\n",
    "    'Feature': X.columns,\n",
    "    'Importance': importances\n",
    "})\n",
    "\n",
    "# Sort by descending importance\n",
    "feature_importance = feature_importance.sort_values(by='Importance', ascending=False)\n",
    "\n",
    "# Display the results\n",
    "print(feature_importance)\n",
    "\n",
    "# 5. Visualize feature importance as a bar chart\n",
    "plt.figure(figsize=(10, 6))\n",
    "sns.barplot(x='Importance', y='Feature', data=feature_importance)\n",
    "plt.title('Feature Importance with Random Forest')\n",
    "plt.show()\n",
    "\n",
    "# 6. Predict the target variable on the test set\n",
    "y_pred = model.predict(X_test)\n",
    "\n",
    "# 7. Calculate the F1 score\n",
    "f1 = f1_score(y_test, y_pred, average='weighted')  # For multi-class classification, weighted average\n",
    "print(f'F1 Score: {f1}')"
   ]
  },
  {
   "cell_type": "markdown",
   "metadata": {},
   "source": [
    "We select the only relevant feature `prelev_other_volume_sum`. This allows us to focus on the key data while reducing noise and improving the model's performance."
   ]
  },
  {
   "cell_type": "code",
   "execution_count": 40,
   "metadata": {},
   "outputs": [],
   "source": [
    "withdrawal_features = ['prelev_other_volume_sum']"
   ]
  }
 ],
 "metadata": {
  "kernelspec": {
   "display_name": "base",
   "language": "python",
   "name": "python3"
  },
  "language_info": {
   "codemirror_mode": {
    "name": "ipython",
    "version": 3
   },
   "file_extension": ".py",
   "mimetype": "text/x-python",
   "name": "python",
   "nbconvert_exporter": "python",
   "pygments_lexer": "ipython3",
   "version": "3.12.6"
  }
 },
 "nbformat": 4,
 "nbformat_minor": 2
}
