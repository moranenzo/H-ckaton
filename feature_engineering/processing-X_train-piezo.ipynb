{
 "cells": [
  {
   "cell_type": "markdown",
   "metadata": {},
   "source": [
    "# CLEANING PIEZO VARIABLES"
   ]
  },
  {
   "cell_type": "markdown",
   "metadata": {},
   "source": [
    "Data Cleaning is the first step of any Data Science project and can sometimes be very time consuming.\n",
    "It involves identifying and correcting errors, inconsistencies or incomplete data within a dataset.\n",
    "\n",
    "1. Handle missing values\n",
    "2. Remove duplicates/irrelevant or hard to preprocess variables\n",
    "3. Clean text data with an incorrect format"
   ]
  },
  {
   "cell_type": "code",
   "execution_count": 1,
   "metadata": {},
   "outputs": [
    {
     "name": "stdout",
     "output_type": "stream",
     "text": [
      "Requirement already satisfied: matplotlib in /opt/conda/lib/python3.12/site-packages (3.9.2)\n",
      "Requirement already satisfied: seaborn in /opt/conda/lib/python3.12/site-packages (0.13.2)\n",
      "Requirement already satisfied: contourpy>=1.0.1 in /opt/conda/lib/python3.12/site-packages (from matplotlib) (1.3.0)\n",
      "Requirement already satisfied: cycler>=0.10 in /opt/conda/lib/python3.12/site-packages (from matplotlib) (0.12.1)\n",
      "Requirement already satisfied: fonttools>=4.22.0 in /opt/conda/lib/python3.12/site-packages (from matplotlib) (4.54.1)\n",
      "Requirement already satisfied: kiwisolver>=1.3.1 in /opt/conda/lib/python3.12/site-packages (from matplotlib) (1.4.7)\n",
      "Requirement already satisfied: numpy>=1.23 in /opt/conda/lib/python3.12/site-packages (from matplotlib) (2.1.3)\n",
      "Requirement already satisfied: packaging>=20.0 in /opt/conda/lib/python3.12/site-packages (from matplotlib) (24.1)\n",
      "Requirement already satisfied: pillow>=8 in /opt/conda/lib/python3.12/site-packages (from matplotlib) (11.0.0)\n",
      "Requirement already satisfied: pyparsing>=2.3.1 in /opt/conda/lib/python3.12/site-packages (from matplotlib) (3.2.0)\n",
      "Requirement already satisfied: python-dateutil>=2.7 in /opt/conda/lib/python3.12/site-packages (from matplotlib) (2.9.0)\n",
      "Requirement already satisfied: pandas>=1.2 in /opt/conda/lib/python3.12/site-packages (from seaborn) (2.2.3)\n",
      "Requirement already satisfied: pytz>=2020.1 in /opt/conda/lib/python3.12/site-packages (from pandas>=1.2->seaborn) (2024.1)\n",
      "Requirement already satisfied: tzdata>=2022.7 in /opt/conda/lib/python3.12/site-packages (from pandas>=1.2->seaborn) (2024.2)\n",
      "Requirement already satisfied: six>=1.5 in /opt/conda/lib/python3.12/site-packages (from python-dateutil>=2.7->matplotlib) (1.16.0)\n",
      "Note: you may need to restart the kernel to use updated packages.\n"
     ]
    }
   ],
   "source": [
    "pip install matplotlib seaborn"
   ]
  },
  {
   "cell_type": "code",
   "execution_count": 1,
   "metadata": {},
   "outputs": [],
   "source": [
    "import pandas as pd\n",
    "import numpy as np\n",
    "import matplotlib.pyplot as plt\n",
    "import seaborn as sns\n",
    "from sklearn.metrics import f1_score\n",
    "from sklearn.ensemble import RandomForestClassifier\n",
    "from sklearn.model_selection import train_test_split\n",
    "from sklearn.preprocessing import LabelEncoder\n",
    "from utils import *"
   ]
  },
  {
   "cell_type": "code",
   "execution_count": 2,
   "metadata": {},
   "outputs": [
    {
     "name": "stderr",
     "output_type": "stream",
     "text": [
      "/tmp/ipykernel_118523/824609044.py:1: DtypeWarning: Columns (108,110,111,115,117,118,122,124,125) have mixed types. Specify dtype option on import or set low_memory=False.\n",
      "  df_train = pd.read_csv('X_train_Hi5.csv')\n",
      "/tmp/ipykernel_118523/824609044.py:2: DtypeWarning: Columns (1,5,108,110,111,115,117,118,122,124,125) have mixed types. Specify dtype option on import or set low_memory=False.\n",
      "  df_test = pd.read_csv('X_test_Hi5.csv')\n"
     ]
    }
   ],
   "source": [
    "df_train = pd.read_csv('X_train_Hi5.csv')\n",
    "df_test = pd.read_csv('X_test_Hi5.csv')\n"
   ]
  },
  {
   "cell_type": "code",
   "execution_count": 3,
   "metadata": {},
   "outputs": [],
   "source": [
    "df = df_train.filter(regex='^piezo')"
   ]
  },
  {
   "cell_type": "code",
   "execution_count": 4,
   "metadata": {},
   "outputs": [],
   "source": [
    "# Affichage des noms des variables\n",
    "variables = df.columns.tolist()"
   ]
  },
  {
   "cell_type": "markdown",
   "metadata": {},
   "source": [
    "The `.info()` function allows you to check:\n",
    "\n",
    "1. The number of \"non-null\" values (number of rows without a NaN value)\n",
    "2. The data type (or dtype of each column)\n",
    "3. The number of rows and the columns present in the dataset"
   ]
  },
  {
   "cell_type": "code",
   "execution_count": 5,
   "metadata": {},
   "outputs": [
    {
     "data": {
      "text/html": [
       "<div>\n",
       "<style scoped>\n",
       "    .dataframe tbody tr th:only-of-type {\n",
       "        vertical-align: middle;\n",
       "    }\n",
       "\n",
       "    .dataframe tbody tr th {\n",
       "        vertical-align: top;\n",
       "    }\n",
       "\n",
       "    .dataframe thead th {\n",
       "        text-align: right;\n",
       "    }\n",
       "</style>\n",
       "<table border=\"1\" class=\"dataframe\">\n",
       "  <thead>\n",
       "    <tr style=\"text-align: right;\">\n",
       "      <th></th>\n",
       "      <th>piezo_station_department_code</th>\n",
       "      <th>piezo_station_update_date</th>\n",
       "      <th>piezo_station_investigation_depth</th>\n",
       "      <th>piezo_station_department_name</th>\n",
       "      <th>piezo_station_commune_code_insee</th>\n",
       "      <th>piezo_station_pe_label</th>\n",
       "      <th>piezo_station_bdlisa_codes</th>\n",
       "      <th>piezo_station_altitude</th>\n",
       "      <th>piezo_station_bss_code</th>\n",
       "      <th>piezo_station_commune_name</th>\n",
       "      <th>...</th>\n",
       "      <th>piezo_obtention_mode</th>\n",
       "      <th>piezo_status</th>\n",
       "      <th>piezo_qualification</th>\n",
       "      <th>piezo_continuity_code</th>\n",
       "      <th>piezo_continuity_name</th>\n",
       "      <th>piezo_producer_code</th>\n",
       "      <th>piezo_producer_name</th>\n",
       "      <th>piezo_measure_nature_code</th>\n",
       "      <th>piezo_measure_nature_name</th>\n",
       "      <th>piezo_groundwater_level_category</th>\n",
       "    </tr>\n",
       "  </thead>\n",
       "  <tbody>\n",
       "    <tr>\n",
       "      <th>0</th>\n",
       "      <td>01</td>\n",
       "      <td>Sun Jul 14 13:00:02 CEST 2024</td>\n",
       "      <td>20.00</td>\n",
       "      <td>Ain</td>\n",
       "      <td>01073</td>\n",
       "      <td>PIEZOMETRE - MARAIS DE LAVOURS (CEYZERIEU - BR...</td>\n",
       "      <td>['712AH37']</td>\n",
       "      <td>232.00</td>\n",
       "      <td>07004X0046/D6-20</td>\n",
       "      <td>Ceyzérieu</td>\n",
       "      <td>...</td>\n",
       "      <td>Valeur mesurée</td>\n",
       "      <td>Donnée contrôlée niveau 2</td>\n",
       "      <td>Correcte</td>\n",
       "      <td>2.0</td>\n",
       "      <td>Point lié au point précédent</td>\n",
       "      <td>196.0</td>\n",
       "      <td>Service Géologique Régional Rhône-Alpes (196)</td>\n",
       "      <td>N</td>\n",
       "      <td>Naturel</td>\n",
       "      <td>High</td>\n",
       "    </tr>\n",
       "    <tr>\n",
       "      <th>1</th>\n",
       "      <td>01</td>\n",
       "      <td>Sun Jul 14 13:00:02 CEST 2024</td>\n",
       "      <td>35.60</td>\n",
       "      <td>Ain</td>\n",
       "      <td>01363</td>\n",
       "      <td>PIEZOMETRE - GRAVIERE (ST-JEAN-LE-VIEUX - BRGM...</td>\n",
       "      <td>['712GB05']</td>\n",
       "      <td>247.25</td>\n",
       "      <td>06754X0077/F1</td>\n",
       "      <td>Saint-Jean-le-Vieux</td>\n",
       "      <td>...</td>\n",
       "      <td>Valeur mesurée</td>\n",
       "      <td>Donnée contrôlée niveau 2</td>\n",
       "      <td>Correcte</td>\n",
       "      <td>2.0</td>\n",
       "      <td>Point lié au point précédent</td>\n",
       "      <td>196.0</td>\n",
       "      <td>Service Géologique Régional Rhône-Alpes (196)</td>\n",
       "      <td>N</td>\n",
       "      <td>Naturel</td>\n",
       "      <td>Very High</td>\n",
       "    </tr>\n",
       "    <tr>\n",
       "      <th>2</th>\n",
       "      <td>01</td>\n",
       "      <td>Sun Jul 14 13:00:02 CEST 2024</td>\n",
       "      <td>35.22</td>\n",
       "      <td>Ain</td>\n",
       "      <td>01244</td>\n",
       "      <td>PIEZOMETRE - BORD AUTOROUTE (MEXIMIEUX - BRGM ...</td>\n",
       "      <td>['040AJ43']</td>\n",
       "      <td>218.77</td>\n",
       "      <td>06993X0226/MEXI_2</td>\n",
       "      <td>Meximieux</td>\n",
       "      <td>...</td>\n",
       "      <td>Valeur mesurée</td>\n",
       "      <td>Donnée contrôlée niveau 2</td>\n",
       "      <td>Correcte</td>\n",
       "      <td>2.0</td>\n",
       "      <td>Point lié au point précédent</td>\n",
       "      <td>196.0</td>\n",
       "      <td>Service Géologique Régional Rhône-Alpes (196)</td>\n",
       "      <td>N</td>\n",
       "      <td>Naturel</td>\n",
       "      <td>High</td>\n",
       "    </tr>\n",
       "    <tr>\n",
       "      <th>3</th>\n",
       "      <td>01</td>\n",
       "      <td>Sun Jul 14 13:00:02 CEST 2024</td>\n",
       "      <td>34.20</td>\n",
       "      <td>Ain</td>\n",
       "      <td>01288</td>\n",
       "      <td>PIEZOMETRE - GRENY (PERON - BRGM 01) - BSH</td>\n",
       "      <td>['516AA00', '516AF00']</td>\n",
       "      <td>499.85</td>\n",
       "      <td>06533X0070/F2</td>\n",
       "      <td>Péron</td>\n",
       "      <td>...</td>\n",
       "      <td>Valeur mesurée</td>\n",
       "      <td>Donnée contrôlée niveau 2</td>\n",
       "      <td>Correcte</td>\n",
       "      <td>2.0</td>\n",
       "      <td>Point lié au point précédent</td>\n",
       "      <td>196.0</td>\n",
       "      <td>Service Géologique Régional Rhône-Alpes (196)</td>\n",
       "      <td>N</td>\n",
       "      <td>Naturel</td>\n",
       "      <td>Very High</td>\n",
       "    </tr>\n",
       "    <tr>\n",
       "      <th>4</th>\n",
       "      <td>01</td>\n",
       "      <td>Sun Jul 14 13:00:02 CEST 2024</td>\n",
       "      <td>37.30</td>\n",
       "      <td>Ain</td>\n",
       "      <td>01422</td>\n",
       "      <td>FORAGE - ENCLOS (TOSSIAT - BRGM 01) - BSH</td>\n",
       "      <td>['507AB00']</td>\n",
       "      <td>260.00</td>\n",
       "      <td>06518X0026/P2</td>\n",
       "      <td>Tossiat</td>\n",
       "      <td>...</td>\n",
       "      <td>Valeur mesurée</td>\n",
       "      <td>Donnée contrôlée niveau 2</td>\n",
       "      <td>Correcte</td>\n",
       "      <td>2.0</td>\n",
       "      <td>Point lié au point précédent</td>\n",
       "      <td>196.0</td>\n",
       "      <td>Service Géologique Régional Rhône-Alpes (196)</td>\n",
       "      <td>N</td>\n",
       "      <td>Naturel</td>\n",
       "      <td>Very Low</td>\n",
       "    </tr>\n",
       "  </tbody>\n",
       "</table>\n",
       "<p>5 rows × 25 columns</p>\n",
       "</div>"
      ],
      "text/plain": [
       "  piezo_station_department_code      piezo_station_update_date  \\\n",
       "0                            01  Sun Jul 14 13:00:02 CEST 2024   \n",
       "1                            01  Sun Jul 14 13:00:02 CEST 2024   \n",
       "2                            01  Sun Jul 14 13:00:02 CEST 2024   \n",
       "3                            01  Sun Jul 14 13:00:02 CEST 2024   \n",
       "4                            01  Sun Jul 14 13:00:02 CEST 2024   \n",
       "\n",
       "   piezo_station_investigation_depth piezo_station_department_name  \\\n",
       "0                              20.00                           Ain   \n",
       "1                              35.60                           Ain   \n",
       "2                              35.22                           Ain   \n",
       "3                              34.20                           Ain   \n",
       "4                              37.30                           Ain   \n",
       "\n",
       "  piezo_station_commune_code_insee  \\\n",
       "0                            01073   \n",
       "1                            01363   \n",
       "2                            01244   \n",
       "3                            01288   \n",
       "4                            01422   \n",
       "\n",
       "                              piezo_station_pe_label  \\\n",
       "0  PIEZOMETRE - MARAIS DE LAVOURS (CEYZERIEU - BR...   \n",
       "1  PIEZOMETRE - GRAVIERE (ST-JEAN-LE-VIEUX - BRGM...   \n",
       "2  PIEZOMETRE - BORD AUTOROUTE (MEXIMIEUX - BRGM ...   \n",
       "3         PIEZOMETRE - GRENY (PERON - BRGM 01) - BSH   \n",
       "4          FORAGE - ENCLOS (TOSSIAT - BRGM 01) - BSH   \n",
       "\n",
       "  piezo_station_bdlisa_codes  piezo_station_altitude piezo_station_bss_code  \\\n",
       "0                ['712AH37']                  232.00       07004X0046/D6-20   \n",
       "1                ['712GB05']                  247.25          06754X0077/F1   \n",
       "2                ['040AJ43']                  218.77      06993X0226/MEXI_2   \n",
       "3     ['516AA00', '516AF00']                  499.85          06533X0070/F2   \n",
       "4                ['507AB00']                  260.00          06518X0026/P2   \n",
       "\n",
       "  piezo_station_commune_name  ...  piezo_obtention_mode  \\\n",
       "0                  Ceyzérieu  ...        Valeur mesurée   \n",
       "1        Saint-Jean-le-Vieux  ...        Valeur mesurée   \n",
       "2                  Meximieux  ...        Valeur mesurée   \n",
       "3                      Péron  ...        Valeur mesurée   \n",
       "4                    Tossiat  ...        Valeur mesurée   \n",
       "\n",
       "                piezo_status piezo_qualification piezo_continuity_code  \\\n",
       "0  Donnée contrôlée niveau 2            Correcte                   2.0   \n",
       "1  Donnée contrôlée niveau 2            Correcte                   2.0   \n",
       "2  Donnée contrôlée niveau 2            Correcte                   2.0   \n",
       "3  Donnée contrôlée niveau 2            Correcte                   2.0   \n",
       "4  Donnée contrôlée niveau 2            Correcte                   2.0   \n",
       "\n",
       "          piezo_continuity_name piezo_producer_code  \\\n",
       "0  Point lié au point précédent               196.0   \n",
       "1  Point lié au point précédent               196.0   \n",
       "2  Point lié au point précédent               196.0   \n",
       "3  Point lié au point précédent               196.0   \n",
       "4  Point lié au point précédent               196.0   \n",
       "\n",
       "                             piezo_producer_name piezo_measure_nature_code  \\\n",
       "0  Service Géologique Régional Rhône-Alpes (196)                         N   \n",
       "1  Service Géologique Régional Rhône-Alpes (196)                         N   \n",
       "2  Service Géologique Régional Rhône-Alpes (196)                         N   \n",
       "3  Service Géologique Régional Rhône-Alpes (196)                         N   \n",
       "4  Service Géologique Régional Rhône-Alpes (196)                         N   \n",
       "\n",
       "   piezo_measure_nature_name piezo_groundwater_level_category  \n",
       "0                    Naturel                             High  \n",
       "1                    Naturel                        Very High  \n",
       "2                    Naturel                             High  \n",
       "3                    Naturel                        Very High  \n",
       "4                    Naturel                         Very Low  \n",
       "\n",
       "[5 rows x 25 columns]"
      ]
     },
     "execution_count": 5,
     "metadata": {},
     "output_type": "execute_result"
    }
   ],
   "source": [
    "df.head()"
   ]
  },
  {
   "cell_type": "code",
   "execution_count": 6,
   "metadata": {},
   "outputs": [
    {
     "data": {
      "text/plain": [
       "piezo_station_department_code             0\n",
       "piezo_station_update_date                 0\n",
       "piezo_station_investigation_depth    179062\n",
       "piezo_station_department_name             0\n",
       "piezo_station_commune_code_insee          0\n",
       "piezo_station_pe_label               229852\n",
       "piezo_station_bdlisa_codes           141346\n",
       "piezo_station_altitude                    0\n",
       "piezo_station_bss_code                    0\n",
       "piezo_station_commune_name                0\n",
       "piezo_station_longitude                   0\n",
       "piezo_station_latitude                    0\n",
       "piezo_station_bss_id                      0\n",
       "piezo_bss_code                            0\n",
       "piezo_measurement_date                    0\n",
       "piezo_obtention_mode                      0\n",
       "piezo_status                              0\n",
       "piezo_qualification                       0\n",
       "piezo_continuity_code                     0\n",
       "piezo_continuity_name                     0\n",
       "piezo_producer_code                  145822\n",
       "piezo_producer_name                  145822\n",
       "piezo_measure_nature_code            112386\n",
       "piezo_measure_nature_name            112386\n",
       "piezo_groundwater_level_category          0\n",
       "dtype: int64"
      ]
     },
     "execution_count": 6,
     "metadata": {},
     "output_type": "execute_result"
    }
   ],
   "source": [
    "df.isnull().sum()\n"
   ]
  },
  {
   "cell_type": "markdown",
   "metadata": {},
   "source": [
    "## 1. Analysis of the Different Variables"
   ]
  },
  {
   "cell_type": "markdown",
   "metadata": {},
   "source": [
    "It can be observed that `piezo_producer_name` and `piezo_producer_code` encode the same information.\n",
    "\n",
    "Same analysis for (`piezo_measure_nature_name`, `piezo_measure_nature_code`)<br>and (`piezo_continuity_name`,`piezo_continuity_code`)<br>and (`piezo_station_department_name`,`piezo_station_department_code`)."
   ]
  },
  {
   "cell_type": "code",
   "execution_count": 7,
   "metadata": {},
   "outputs": [
    {
     "name": "stdout",
     "output_type": "stream",
     "text": [
      "Each value in piezo_producer_name is associated with a unique identifier in piezo_producer_code.\n",
      "Each identifier in piezo_producer_code is associated with a single value in piezo_producer_name.\n"
     ]
    }
   ],
   "source": [
    "# Check if each value of 'piezo_producer_name' has a unique 'piezo_producer_code'.\n",
    "compare(df, 'piezo_producer_name', 'piezo_producer_code')"
   ]
  },
  {
   "cell_type": "markdown",
   "metadata": {},
   "source": [
    "We also can observe that `piezo_station_bss_code` and `piezo_station_bss_id` are variables that are suppose to identify a station, as long as we do not need 2 ids, we do not need both of them."
   ]
  },
  {
   "cell_type": "code",
   "execution_count": 8,
   "metadata": {},
   "outputs": [
    {
     "name": "stdout",
     "output_type": "stream",
     "text": [
      "Each value in piezo_station_bss_code is associated with a unique identifier in piezo_station_bss_id.\n",
      "Each identifier in piezo_station_bss_id is associated with a single value in piezo_station_bss_code.\n"
     ]
    }
   ],
   "source": [
    "# Check if each value of 'piezo_station_bss_code' has a unique 'piezo_station_bss_id'.\n",
    "compare(df, 'piezo_station_bss_code', 'piezo_station_bss_id')"
   ]
  },
  {
   "cell_type": "markdown",
   "metadata": {},
   "source": [
    "## 2. Study of categorical variables"
   ]
  },
  {
   "cell_type": "markdown",
   "metadata": {},
   "source": [
    "`piezo_station_pe_label` is categorical variable with 2551 different labels. We drop this var for that very reason."
   ]
  },
  {
   "cell_type": "code",
   "execution_count": 9,
   "metadata": {},
   "outputs": [
    {
     "data": {
      "text/plain": [
       "2551"
      ]
     },
     "execution_count": 9,
     "metadata": {},
     "output_type": "execute_result"
    }
   ],
   "source": [
    "len(df['piezo_station_pe_label'].unique())"
   ]
  },
  {
   "cell_type": "markdown",
   "metadata": {},
   "source": [
    "Same for `piezo_station_bdlisa_codes` and `piezo_station_commune_name`"
   ]
  },
  {
   "cell_type": "code",
   "execution_count": 10,
   "metadata": {},
   "outputs": [
    {
     "data": {
      "text/plain": [
       "2275"
      ]
     },
     "execution_count": 10,
     "metadata": {},
     "output_type": "execute_result"
    }
   ],
   "source": [
    "len(df['piezo_station_bdlisa_codes'].unique())\n",
    "len(df['piezo_station_commune_name'].unique())"
   ]
  },
  {
   "cell_type": "markdown",
   "metadata": {},
   "source": [
    "## 3. Data Processing"
   ]
  },
  {
   "cell_type": "markdown",
   "metadata": {},
   "source": [
    "Real-word data often contains missing values. This can be due to technical failures, data entry issues, incompatible data formats or even intentional omissions (for privacy concerns). Examples include a lack of response to a survey or equipment failures when collecting data.\n",
    "\n",
    "Here is a list of strategies to handle missing values:\n",
    "\n",
    "- Replace NaN with the mean or median value (for continuous data)\n",
    "- Replace NaN with the most frequent value (for categorical data)\n",
    "- Create a new category for the missing values (for categorical data)\n",
    "- Use a Machine Learning model to predict the missing values (KNN, Random Forest,...)"
   ]
  },
  {
   "cell_type": "markdown",
   "metadata": {},
   "source": [
    "### Selection of variables with missing values"
   ]
  },
  {
   "cell_type": "markdown",
   "metadata": {},
   "source": [
    "This code identifies and prints the names of columns that contain missing (NaN) values in the DataFrame, helping to detect and address missing data."
   ]
  },
  {
   "cell_type": "code",
   "execution_count": 11,
   "metadata": {},
   "outputs": [
    {
     "name": "stdout",
     "output_type": "stream",
     "text": [
      "['piezo_station_investigation_depth', 'piezo_station_pe_label', 'piezo_station_bdlisa_codes', 'piezo_producer_code', 'piezo_producer_name', 'piezo_measure_nature_code', 'piezo_measure_nature_name']\n"
     ]
    }
   ],
   "source": [
    "missing_columns = df.columns[df.isna().sum() > 0].tolist()\n",
    "print(missing_columns)"
   ]
  },
  {
   "cell_type": "markdown",
   "metadata": {},
   "source": [
    "### Standardization of object-type columns"
   ]
  },
  {
   "cell_type": "markdown",
   "metadata": {},
   "source": [
    "Standardization of `object-type` columns and columns names (not required here as long as features are already standardized)"
   ]
  },
  {
   "cell_type": "code",
   "execution_count": 12,
   "metadata": {},
   "outputs": [
    {
     "name": "stderr",
     "output_type": "stream",
     "text": [
      "/tmp/ipykernel_118523/3121806354.py:3: SettingWithCopyWarning: \n",
      "A value is trying to be set on a copy of a slice from a DataFrame.\n",
      "Try using .loc[row_indexer,col_indexer] = value instead\n",
      "\n",
      "See the caveats in the documentation: https://pandas.pydata.org/pandas-docs/stable/user_guide/indexing.html#returning-a-view-versus-a-copy\n",
      "  df[col] = df[col].str.lower().str.strip()\n",
      "/tmp/ipykernel_118523/3121806354.py:6: SettingWithCopyWarning: \n",
      "A value is trying to be set on a copy of a slice from a DataFrame\n",
      "\n",
      "See the caveats in the documentation: https://pandas.pydata.org/pandas-docs/stable/user_guide/indexing.html#returning-a-view-versus-a-copy\n",
      "  df.rename(columns=lambda x: x.strip().lower().replace(' ', '_'), inplace=True)\n"
     ]
    }
   ],
   "source": [
    "# Standardize object-type columns\n",
    "for col in df.select_dtypes(include='object').columns:\n",
    "    df[col] = df[col].str.lower().str.strip()\n",
    "\n",
    "# Standardize column names to simplify their manipulation\n",
    "df.rename(columns=lambda x: x.strip().lower().replace(' ', '_'), inplace=True)"
   ]
  },
  {
   "cell_type": "markdown",
   "metadata": {},
   "source": [
    "### Duplicates"
   ]
  },
  {
   "cell_type": "markdown",
   "metadata": {},
   "source": [
    "This removes duplicate rows from the DataFrame, ensuring that each row is unique. It's useful to avoid redundancy and improve the quality of the data before further analysis or modeling."
   ]
  },
  {
   "cell_type": "code",
   "execution_count": 13,
   "metadata": {},
   "outputs": [
    {
     "name": "stderr",
     "output_type": "stream",
     "text": [
      "/tmp/ipykernel_118523/3006716147.py:1: SettingWithCopyWarning: \n",
      "A value is trying to be set on a copy of a slice from a DataFrame\n",
      "\n",
      "See the caveats in the documentation: https://pandas.pydata.org/pandas-docs/stable/user_guide/indexing.html#returning-a-view-versus-a-copy\n",
      "  df.drop_duplicates(inplace=True)\n"
     ]
    }
   ],
   "source": [
    "df.drop_duplicates(inplace=True)"
   ]
  },
  {
   "cell_type": "markdown",
   "metadata": {},
   "source": [
    "### piezo_qualification"
   ]
  },
  {
   "cell_type": "markdown",
   "metadata": {},
   "source": [
    "This filters out rows where the 'piezo_qualification' column is labeled as 'Incorrecte', removing data that may be unreliable or not suitable for analysis."
   ]
  },
  {
   "cell_type": "code",
   "execution_count": 14,
   "metadata": {},
   "outputs": [],
   "source": [
    "df = df[df['piezo_qualification'] != 'Incorrecte']"
   ]
  },
  {
   "cell_type": "markdown",
   "metadata": {},
   "source": [
    "### piezo_continuity_code"
   ]
  },
  {
   "cell_type": "markdown",
   "metadata": {},
   "source": [
    "This operation shifts the values of the variable `piezo_continuity_code` from [1, 2] to [0, 1], making it zero-based. This is often done because many machine learning models and libraries expect categorical variables or class labels to start at 0."
   ]
  },
  {
   "cell_type": "code",
   "execution_count": 15,
   "metadata": {},
   "outputs": [],
   "source": [
    "df.loc[:, 'piezo_continuity_code'] = df['piezo_continuity_code'] - 1"
   ]
  },
  {
   "cell_type": "markdown",
   "metadata": {},
   "source": [
    "### piezo_measure_nature_code"
   ]
  },
  {
   "cell_type": "markdown",
   "metadata": {},
   "source": [
    "We fill missing values in `piezo_measure_nature_code` using the mode as long as the feature is a categorical one. It's used here to ensure the dataset has no missing values, which is crucial for most machine learning algorithms to work effectively."
   ]
  },
  {
   "cell_type": "code",
   "execution_count": 16,
   "metadata": {},
   "outputs": [],
   "source": [
    "column_filler(df, 'piezo_measure_nature_code')"
   ]
  },
  {
   "cell_type": "markdown",
   "metadata": {},
   "source": [
    "### piezo_measurement_date"
   ]
  },
  {
   "cell_type": "markdown",
   "metadata": {},
   "source": [
    "This code converts dates into the number of days elapsed since January 1, 2020. This allows machine learning models to process temporal information in a numerical format and identify time-related trends."
   ]
  },
  {
   "cell_type": "code",
   "execution_count": 17,
   "metadata": {},
   "outputs": [],
   "source": [
    "# Apply the function days_since_start_of_2020 to the 'piezo_measurement_date' column\n",
    "df.loc[:, 'days_since_2020'] = df['piezo_measurement_date'].apply(days_since_start_of_2020)\n"
   ]
  },
  {
   "cell_type": "markdown",
   "metadata": {},
   "source": [
    "### Categorical features processing"
   ]
  },
  {
   "cell_type": "code",
   "execution_count": 18,
   "metadata": {},
   "outputs": [
    {
     "name": "stderr",
     "output_type": "stream",
     "text": [
      "/tmp/ipykernel_118523/1923917862.py:18: SettingWithCopyWarning: \n",
      "A value is trying to be set on a copy of a slice from a DataFrame.\n",
      "Try using .loc[row_indexer,col_indexer] = value instead\n",
      "\n",
      "See the caveats in the documentation: https://pandas.pydata.org/pandas-docs/stable/user_guide/indexing.html#returning-a-view-versus-a-copy\n",
      "  df_clean[col] = le.fit_transform(df_clean[col])\n",
      "/tmp/ipykernel_118523/1923917862.py:18: SettingWithCopyWarning: \n",
      "A value is trying to be set on a copy of a slice from a DataFrame.\n",
      "Try using .loc[row_indexer,col_indexer] = value instead\n",
      "\n",
      "See the caveats in the documentation: https://pandas.pydata.org/pandas-docs/stable/user_guide/indexing.html#returning-a-view-versus-a-copy\n",
      "  df_clean[col] = le.fit_transform(df_clean[col])\n",
      "/tmp/ipykernel_118523/1923917862.py:18: SettingWithCopyWarning: \n",
      "A value is trying to be set on a copy of a slice from a DataFrame.\n",
      "Try using .loc[row_indexer,col_indexer] = value instead\n",
      "\n",
      "See the caveats in the documentation: https://pandas.pydata.org/pandas-docs/stable/user_guide/indexing.html#returning-a-view-versus-a-copy\n",
      "  df_clean[col] = le.fit_transform(df_clean[col])\n",
      "/tmp/ipykernel_118523/1923917862.py:18: SettingWithCopyWarning: \n",
      "A value is trying to be set on a copy of a slice from a DataFrame.\n",
      "Try using .loc[row_indexer,col_indexer] = value instead\n",
      "\n",
      "See the caveats in the documentation: https://pandas.pydata.org/pandas-docs/stable/user_guide/indexing.html#returning-a-view-versus-a-copy\n",
      "  df_clean[col] = le.fit_transform(df_clean[col])\n"
     ]
    }
   ],
   "source": [
    "keeped_var = [\n",
    "    'piezo_station_investigation_depth',\n",
    "    'piezo_station_altitude',\n",
    "    'piezo_station_longitude',\n",
    "    'piezo_station_latitude',\n",
    "    'days_since_2020',\n",
    "    'piezo_obtention_mode',\n",
    "    'piezo_status',\n",
    "    'piezo_continuity_code',\n",
    "    'piezo_qualification',\n",
    "    'piezo_groundwater_level_category'\n",
    "]\n",
    "df_clean = df[keeped_var]\n",
    "\n",
    "# Encode categorical variables using LabelEncoder\n",
    "le = LabelEncoder()\n",
    "for col in df_clean.select_dtypes(include=['object']).columns:\n",
    "    df_clean[col] = le.fit_transform(df_clean[col])"
   ]
  },
  {
   "cell_type": "markdown",
   "metadata": {},
   "source": [
    "# Interesting Features Selection"
   ]
  },
  {
   "cell_type": "markdown",
   "metadata": {},
   "source": [
    "This code aims to analyze the importance of certain features to predict `piezo_groundwater_level_category`."
   ]
  },
  {
   "cell_type": "code",
   "execution_count": 19,
   "metadata": {},
   "outputs": [
    {
     "name": "stdout",
     "output_type": "stream",
     "text": [
      "                             Feature  Importance\n",
      "4                    days_since_2020    0.497545\n",
      "3             piezo_station_latitude    0.127259\n",
      "2            piezo_station_longitude    0.127135\n",
      "1             piezo_station_altitude    0.114975\n",
      "0  piezo_station_investigation_depth    0.114052\n",
      "6                       piezo_status    0.010181\n",
      "5               piezo_obtention_mode    0.005113\n",
      "8                piezo_qualification    0.003550\n",
      "7              piezo_continuity_code    0.000191\n"
     ]
    },
    {
     "data": {
      "image/png": "[encoded data removed]",
      "text/plain": [
       "<Figure size 1000x600 with 1 Axes>"
      ]
     },
     "metadata": {},
     "output_type": "display_data"
    },
    {
     "name": "stdout",
     "output_type": "stream",
     "text": [
      "F1 Score: 0.9472318079060833\n"
     ]
    }
   ],
   "source": [
    "var = \"piezo_groundwater_level_category\"\n",
    "\n",
    "# 1. Separate explanatory variables (X) and the target variable (y)\n",
    "X = df_clean.drop(columns=[var])\n",
    "y = df_clean[var]\n",
    "\n",
    "# 2. Split the data into training and testing sets\n",
    "X_train, X_test, y_train, y_test = train_test_split(X, y, test_size=0.2, random_state=42)\n",
    "\n",
    "# 3. Apply Random Forest\n",
    "model = RandomForestClassifier(n_estimators=100, random_state=42)\n",
    "model.fit(X_train, y_train)\n",
    "\n",
    "# 4. Display feature importance\n",
    "importances = model.feature_importances_\n",
    "\n",
    "# Create a DataFrame to display the feature importance\n",
    "feature_importance = pd.DataFrame({\n",
    "    'Feature': X.columns,\n",
    "    'Importance': importances\n",
    "})\n",
    "\n",
    "# Sort by descending importance\n",
    "feature_importance = feature_importance.sort_values(by='Importance', ascending=False)\n",
    "\n",
    "# Display the results\n",
    "print(feature_importance)\n",
    "\n",
    "# 5. Visualize feature importance as a bar chart\n",
    "plt.figure(figsize=(10, 6))\n",
    "sns.barplot(x='Importance', y='Feature', data=feature_importance)\n",
    "plt.title('Feature Importance with Random Forest')\n",
    "plt.show()\n",
    "\n",
    "# 6. Predict the target variable on the test set\n",
    "y_pred = model.predict(X_test)\n",
    "\n",
    "# 7. Calculate the F1 score\n",
    "f1 = f1_score(y_test, y_pred, average='weighted')  # For multi-class classification, weighted average\n",
    "print(f'F1 Score: {f1}')"
   ]
  },
  {
   "cell_type": "markdown",
   "metadata": {},
   "source": [
    "We select the relevant features `piezo_features` because they are the variables deemed most important for making accurate predictions. This allows us to focus on the key data while reducing noise and improving the model's performance."
   ]
  },
  {
   "cell_type": "code",
   "execution_count": 20,
   "metadata": {},
   "outputs": [],
   "source": [
    "piezo_features = ['days_since_2020', 'piezo_station_latitude', 'piezo_station_longitude', 'piezo_station_altitude', 'piezo_station_investigation_depth']"
   ]
  },
  {
   "cell_type": "markdown",
   "metadata": {},
   "source": [
    "## Heat Map"
   ]
  },
  {
   "cell_type": "markdown",
   "metadata": {},
   "source": [
    "The function `plot_correlation_matrix` is used to visualize the relationships between numerical variables in the dataset by displaying a heatmap of their correlation matrix. This helps in identifying highly correlated features, which may indicate redundancy or relationships that could impact the model's performance."
   ]
  },
  {
   "cell_type": "code",
   "execution_count": 21,
   "metadata": {},
   "outputs": [
    {
     "data": {
      "image/png": "[encoded data removed]",
      "text/plain": [
       "<Figure size 1200x1000 with 2 Axes>"
      ]
     },
     "metadata": {},
     "output_type": "display_data"
    },
    {
     "data": {
      "text/html": [
       "<div>\n",
       "<style scoped>\n",
       "    .dataframe tbody tr th:only-of-type {\n",
       "        vertical-align: middle;\n",
       "    }\n",
       "\n",
       "    .dataframe tbody tr th {\n",
       "        vertical-align: top;\n",
       "    }\n",
       "\n",
       "    .dataframe thead th {\n",
       "        text-align: right;\n",
       "    }\n",
       "</style>\n",
       "<table border=\"1\" class=\"dataframe\">\n",
       "  <thead>\n",
       "    <tr style=\"text-align: right;\">\n",
       "      <th></th>\n",
       "      <th>piezo_station_investigation_depth</th>\n",
       "      <th>piezo_station_altitude</th>\n",
       "      <th>piezo_station_longitude</th>\n",
       "      <th>piezo_station_latitude</th>\n",
       "      <th>days_since_2020</th>\n",
       "      <th>piezo_obtention_mode</th>\n",
       "      <th>piezo_status</th>\n",
       "      <th>piezo_continuity_code</th>\n",
       "      <th>piezo_qualification</th>\n",
       "      <th>piezo_groundwater_level_category</th>\n",
       "    </tr>\n",
       "  </thead>\n",
       "  <tbody>\n",
       "    <tr>\n",
       "      <th>piezo_station_investigation_depth</th>\n",
       "      <td>1.000000</td>\n",
       "      <td>-0.012687</td>\n",
       "      <td>-0.095972</td>\n",
       "      <td>-0.127118</td>\n",
       "      <td>-0.000344</td>\n",
       "      <td>-0.024673</td>\n",
       "      <td>0.008446</td>\n",
       "      <td>-0.000762</td>\n",
       "      <td>-0.000642</td>\n",
       "      <td>-0.010176</td>\n",
       "    </tr>\n",
       "    <tr>\n",
       "      <th>piezo_station_altitude</th>\n",
       "      <td>-0.012687</td>\n",
       "      <td>1.000000</td>\n",
       "      <td>0.310090</td>\n",
       "      <td>-0.035373</td>\n",
       "      <td>0.000690</td>\n",
       "      <td>0.087807</td>\n",
       "      <td>0.131211</td>\n",
       "      <td>-0.001703</td>\n",
       "      <td>-0.033976</td>\n",
       "      <td>0.024357</td>\n",
       "    </tr>\n",
       "    <tr>\n",
       "      <th>piezo_station_longitude</th>\n",
       "      <td>-0.095972</td>\n",
       "      <td>0.310090</td>\n",
       "      <td>1.000000</td>\n",
       "      <td>-0.003090</td>\n",
       "      <td>-0.000904</td>\n",
       "      <td>0.061168</td>\n",
       "      <td>0.046763</td>\n",
       "      <td>-0.012384</td>\n",
       "      <td>0.010763</td>\n",
       "      <td>0.027450</td>\n",
       "    </tr>\n",
       "    <tr>\n",
       "      <th>piezo_station_latitude</th>\n",
       "      <td>-0.127118</td>\n",
       "      <td>-0.035373</td>\n",
       "      <td>-0.003090</td>\n",
       "      <td>1.000000</td>\n",
       "      <td>-0.004841</td>\n",
       "      <td>0.099893</td>\n",
       "      <td>0.233431</td>\n",
       "      <td>0.007482</td>\n",
       "      <td>-0.186951</td>\n",
       "      <td>-0.032297</td>\n",
       "    </tr>\n",
       "    <tr>\n",
       "      <th>days_since_2020</th>\n",
       "      <td>-0.000344</td>\n",
       "      <td>0.000690</td>\n",
       "      <td>-0.000904</td>\n",
       "      <td>-0.004841</td>\n",
       "      <td>1.000000</td>\n",
       "      <td>-0.094467</td>\n",
       "      <td>-0.058725</td>\n",
       "      <td>0.000770</td>\n",
       "      <td>0.047538</td>\n",
       "      <td>0.025327</td>\n",
       "    </tr>\n",
       "    <tr>\n",
       "      <th>piezo_obtention_mode</th>\n",
       "      <td>-0.024673</td>\n",
       "      <td>0.087807</td>\n",
       "      <td>0.061168</td>\n",
       "      <td>0.099893</td>\n",
       "      <td>-0.094467</td>\n",
       "      <td>1.000000</td>\n",
       "      <td>0.148491</td>\n",
       "      <td>0.013143</td>\n",
       "      <td>-0.021669</td>\n",
       "      <td>-0.011559</td>\n",
       "    </tr>\n",
       "    <tr>\n",
       "      <th>piezo_status</th>\n",
       "      <td>0.008446</td>\n",
       "      <td>0.131211</td>\n",
       "      <td>0.046763</td>\n",
       "      <td>0.233431</td>\n",
       "      <td>-0.058725</td>\n",
       "      <td>0.148491</td>\n",
       "      <td>1.000000</td>\n",
       "      <td>0.010485</td>\n",
       "      <td>-0.608410</td>\n",
       "      <td>-0.013583</td>\n",
       "    </tr>\n",
       "    <tr>\n",
       "      <th>piezo_continuity_code</th>\n",
       "      <td>-0.000762</td>\n",
       "      <td>-0.001703</td>\n",
       "      <td>-0.012384</td>\n",
       "      <td>0.007482</td>\n",
       "      <td>0.000770</td>\n",
       "      <td>0.013143</td>\n",
       "      <td>0.010485</td>\n",
       "      <td>1.000000</td>\n",
       "      <td>0.000818</td>\n",
       "      <td>0.009758</td>\n",
       "    </tr>\n",
       "    <tr>\n",
       "      <th>piezo_qualification</th>\n",
       "      <td>-0.000642</td>\n",
       "      <td>-0.033976</td>\n",
       "      <td>0.010763</td>\n",
       "      <td>-0.186951</td>\n",
       "      <td>0.047538</td>\n",
       "      <td>-0.021669</td>\n",
       "      <td>-0.608410</td>\n",
       "      <td>0.000818</td>\n",
       "      <td>1.000000</td>\n",
       "      <td>0.041310</td>\n",
       "    </tr>\n",
       "    <tr>\n",
       "      <th>piezo_groundwater_level_category</th>\n",
       "      <td>-0.010176</td>\n",
       "      <td>0.024357</td>\n",
       "      <td>0.027450</td>\n",
       "      <td>-0.032297</td>\n",
       "      <td>0.025327</td>\n",
       "      <td>-0.011559</td>\n",
       "      <td>-0.013583</td>\n",
       "      <td>0.009758</td>\n",
       "      <td>0.041310</td>\n",
       "      <td>1.000000</td>\n",
       "    </tr>\n",
       "  </tbody>\n",
       "</table>\n",
       "</div>"
      ],
      "text/plain": [
       "                                   piezo_station_investigation_depth  \\\n",
       "piezo_station_investigation_depth                           1.000000   \n",
       "piezo_station_altitude                                     -0.012687   \n",
       "piezo_station_longitude                                    -0.095972   \n",
       "piezo_station_latitude                                     -0.127118   \n",
       "days_since_2020                                            -0.000344   \n",
       "piezo_obtention_mode                                       -0.024673   \n",
       "piezo_status                                                0.008446   \n",
       "piezo_continuity_code                                      -0.000762   \n",
       "piezo_qualification                                        -0.000642   \n",
       "piezo_groundwater_level_category                           -0.010176   \n",
       "\n",
       "                                   piezo_station_altitude  \\\n",
       "piezo_station_investigation_depth               -0.012687   \n",
       "piezo_station_altitude                           1.000000   \n",
       "piezo_station_longitude                          0.310090   \n",
       "piezo_station_latitude                          -0.035373   \n",
       "days_since_2020                                  0.000690   \n",
       "piezo_obtention_mode                             0.087807   \n",
       "piezo_status                                     0.131211   \n",
       "piezo_continuity_code                           -0.001703   \n",
       "piezo_qualification                             -0.033976   \n",
       "piezo_groundwater_level_category                 0.024357   \n",
       "\n",
       "                                   piezo_station_longitude  \\\n",
       "piezo_station_investigation_depth                -0.095972   \n",
       "piezo_station_altitude                            0.310090   \n",
       "piezo_station_longitude                           1.000000   \n",
       "piezo_station_latitude                           -0.003090   \n",
       "days_since_2020                                  -0.000904   \n",
       "piezo_obtention_mode                              0.061168   \n",
       "piezo_status                                      0.046763   \n",
       "piezo_continuity_code                            -0.012384   \n",
       "piezo_qualification                               0.010763   \n",
       "piezo_groundwater_level_category                  0.027450   \n",
       "\n",
       "                                   piezo_station_latitude  days_since_2020  \\\n",
       "piezo_station_investigation_depth               -0.127118        -0.000344   \n",
       "piezo_station_altitude                          -0.035373         0.000690   \n",
       "piezo_station_longitude                         -0.003090        -0.000904   \n",
       "piezo_station_latitude                           1.000000        -0.004841   \n",
       "days_since_2020                                 -0.004841         1.000000   \n",
       "piezo_obtention_mode                             0.099893        -0.094467   \n",
       "piezo_status                                     0.233431        -0.058725   \n",
       "piezo_continuity_code                            0.007482         0.000770   \n",
       "piezo_qualification                             -0.186951         0.047538   \n",
       "piezo_groundwater_level_category                -0.032297         0.025327   \n",
       "\n",
       "                                   piezo_obtention_mode  piezo_status  \\\n",
       "piezo_station_investigation_depth             -0.024673      0.008446   \n",
       "piezo_station_altitude                         0.087807      0.131211   \n",
       "piezo_station_longitude                        0.061168      0.046763   \n",
       "piezo_station_latitude                         0.099893      0.233431   \n",
       "days_since_2020                               -0.094467     -0.058725   \n",
       "piezo_obtention_mode                           1.000000      0.148491   \n",
       "piezo_status                                   0.148491      1.000000   \n",
       "piezo_continuity_code                          0.013143      0.010485   \n",
       "piezo_qualification                           -0.021669     -0.608410   \n",
       "piezo_groundwater_level_category              -0.011559     -0.013583   \n",
       "\n",
       "                                   piezo_continuity_code  piezo_qualification  \\\n",
       "piezo_station_investigation_depth              -0.000762            -0.000642   \n",
       "piezo_station_altitude                         -0.001703            -0.033976   \n",
       "piezo_station_longitude                        -0.012384             0.010763   \n",
       "piezo_station_latitude                          0.007482            -0.186951   \n",
       "days_since_2020                                 0.000770             0.047538   \n",
       "piezo_obtention_mode                            0.013143            -0.021669   \n",
       "piezo_status                                    0.010485            -0.608410   \n",
       "piezo_continuity_code                           1.000000             0.000818   \n",
       "piezo_qualification                             0.000818             1.000000   \n",
       "piezo_groundwater_level_category                0.009758             0.041310   \n",
       "\n",
       "                                   piezo_groundwater_level_category  \n",
       "piezo_station_investigation_depth                         -0.010176  \n",
       "piezo_station_altitude                                     0.024357  \n",
       "piezo_station_longitude                                    0.027450  \n",
       "piezo_station_latitude                                    -0.032297  \n",
       "days_since_2020                                            0.025327  \n",
       "piezo_obtention_mode                                      -0.011559  \n",
       "piezo_status                                              -0.013583  \n",
       "piezo_continuity_code                                      0.009758  \n",
       "piezo_qualification                                        0.041310  \n",
       "piezo_groundwater_level_category                           1.000000  "
      ]
     },
     "execution_count": 21,
     "metadata": {},
     "output_type": "execute_result"
    }
   ],
   "source": [
    "final_df = df[piezo_features]\n",
    "\n",
    "def plot_correlation_matrix(dataframe, numerical_columns, figsize=(12, 10)):\n",
    "    correlation_matrix = dataframe[numerical_columns].corr()\n",
    "    plt.figure(figsize=figsize)\n",
    "    sns.heatmap(correlation_matrix, annot=False, fmt=\".2f\", cmap=\"coolwarm\", cbar=True)\n",
    "    plt.title(\"Correlation Matrix\")\n",
    "    plt.show()\n",
    "    return correlation_matrix\n",
    "\n",
    "plot_correlation_matrix(df_clean, keeped_var)"
   ]
  }
 ],
 "metadata": {
  "kernelspec": {
   "display_name": "base",
   "language": "python",
   "name": "python3"
  },
  "language_info": {
   "codemirror_mode": {
    "name": "ipython",
    "version": 3
   },
   "file_extension": ".py",
   "mimetype": "text/x-python",
   "name": "python",
   "nbconvert_exporter": "python",
   "pygments_lexer": "ipython3",
   "version": "3.12.6"
  }
 },
 "nbformat": 4,
 "nbformat_minor": 2
}
