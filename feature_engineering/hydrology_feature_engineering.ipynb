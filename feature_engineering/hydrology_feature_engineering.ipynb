{
 "cells": [
  {
   "cell_type": "markdown",
   "metadata": {},
   "source": [
    "# Load data"
   ]
  },
  {
   "cell_type": "code",
   "execution_count": 1,
   "metadata": {},
   "outputs": [],
   "source": [
    "from pandas import DataFrame, read_csv\n",
    "\n",
    "def load_data(\n",
    "        data_file: str,\n",
    "        n_rows: int | None = None,\n",
    ") -> DataFrame:\n",
    "    return read_csv(data_file, index_col='row_index', nrows=n_rows)"
   ]
  },
  {
   "cell_type": "code",
   "execution_count": 2,
   "metadata": {},
   "outputs": [],
   "source": [
    "import pandas as pd\n",
    "\n",
    "# train_data = file_manager.load_training_data()\n",
    "\n",
    "# TODO\n",
    "train_file = 'X_train.csv'\n",
    "test_file = 'X_test.csv'\n",
    "n_rows = 100_000\n",
    "\n",
    "test_data = load_data(test_file)\n",
    "tiny_train_data = load_data(train_file, n_rows=n_rows)\n",
    "# train_data = load_data(train_file)"
   ]
  },
  {
   "cell_type": "markdown",
   "metadata": {},
   "source": [
    "# Split raw data by variable category (piezo, weather, ...)\n",
    "\n",
    "We are only interested in training data."
   ]
  },
  {
   "cell_type": "code",
   "execution_count": 3,
   "metadata": {},
   "outputs": [],
   "source": [
    "from pandas import DataFrame\n",
    "\n",
    "# Function to extract variable category\n",
    "def extract_category(\n",
    "        df: DataFrame,\n",
    "        category: str,\n",
    ") -> DataFrame:\n",
    "    return df[df.columns[df.columns.str.startswith(category)]]"
   ]
  },
  {
   "cell_type": "code",
   "execution_count": 4,
   "metadata": {},
   "outputs": [
    {
     "data": {
      "text/plain": [
       "array(['Donnée validée', 'Donnée pré-validée', 'Donnée brute',\n",
       "       'Donnée corrigée'], dtype=object)"
      ]
     },
     "execution_count": 4,
     "metadata": {},
     "output_type": "execute_result"
    }
   ],
   "source": [
    "# Example with meteo variables\n",
    "hydro_variables = extract_category(tiny_train_data, 'hydro')\n",
    "hydro_variables.head()\n",
    "hydro_variables[\"hydro_status_label\"].unique()"
   ]
  },
  {
   "cell_type": "code",
   "execution_count": 5,
   "metadata": {},
   "outputs": [
    {
     "name": "stdout",
     "output_type": "stream",
     "text": [
      "<class 'pandas.core.frame.DataFrame'>\n",
      "Index: 100000 entries, 0 to 105170\n",
      "Data columns (total 12 columns):\n",
      " #   Column                         Non-Null Count   Dtype  \n",
      "---  ------                         --------------   -----  \n",
      " 0   hydro_station_code             100000 non-null  object \n",
      " 1   hydro_observation_date_elab    100000 non-null  object \n",
      " 2   hydro_observation_result_elab  100000 non-null  float64\n",
      " 3   hydro_status_code              100000 non-null  int64  \n",
      " 4   hydro_status_label             100000 non-null  object \n",
      " 5   hydro_method_code              100000 non-null  int64  \n",
      " 6   hydro_method_label             100000 non-null  object \n",
      " 7   hydro_qualification_code       100000 non-null  int64  \n",
      " 8   hydro_qualification_label      100000 non-null  object \n",
      " 9   hydro_longitude                100000 non-null  float64\n",
      " 10  hydro_latitude                 100000 non-null  float64\n",
      " 11  hydro_hydro_quantity_elab      100000 non-null  object \n",
      "dtypes: float64(3), int64(3), object(6)\n",
      "memory usage: 9.9+ MB\n"
     ]
    }
   ],
   "source": [
    "hydro_variables.info()"
   ]
  },
  {
   "cell_type": "markdown",
   "metadata": {},
   "source": [
    "# Hydrology Information"
   ]
  },
  {
   "cell_type": "markdown",
   "metadata": {},
   "source": [
    "### 1.1. Unique values\n",
    "Values with one unique values can be observed so we can drop them."
   ]
  },
  {
   "cell_type": "code",
   "execution_count": 6,
   "metadata": {},
   "outputs": [
    {
     "data": {
      "text/plain": [
       "hydro_station_code                1110\n",
       "hydro_observation_date_elab         41\n",
       "hydro_observation_result_elab    19619\n",
       "hydro_status_code                    4\n",
       "hydro_status_label                   4\n",
       "hydro_method_code                    1\n",
       "hydro_method_label                   1\n",
       "hydro_qualification_code             3\n",
       "hydro_qualification_label            3\n",
       "hydro_longitude                   1103\n",
       "hydro_latitude                    1103\n",
       "hydro_hydro_quantity_elab            2\n",
       "dtype: int64"
      ]
     },
     "execution_count": 6,
     "metadata": {},
     "output_type": "execute_result"
    }
   ],
   "source": [
    "# Check number of different values\n",
    "hydro_variables.nunique()"
   ]
  },
  {
   "cell_type": "code",
   "execution_count": 7,
   "metadata": {},
   "outputs": [
    {
     "data": {
      "text/plain": [
       "array(['Donnée validée', 'Donnée pré-validée', 'Donnée brute',\n",
       "       'Donnée corrigée'], dtype=object)"
      ]
     },
     "execution_count": 7,
     "metadata": {},
     "output_type": "execute_result"
    }
   ],
   "source": [
    "# Columns to drop\n",
    "unique_columns = [\n",
    "    \"hydro_method_code\",\n",
    "    \"hydro_method_label\"\n",
    "]\n",
    "\n",
    "# Create the new DataFrame excluding the specified columns\n",
    "hydro_variables = hydro_variables.drop(columns=unique_columns, errors='ignore')\n",
    "hydro_variables.head()\n",
    "hydro_variables[\"hydro_status_label\"].unique()"
   ]
  },
  {
   "cell_type": "markdown",
   "metadata": {},
   "source": [
    "### 1.2. Introductory visualization"
   ]
  },
  {
   "cell_type": "code",
   "execution_count": 8,
   "metadata": {},
   "outputs": [],
   "source": [
    "import pandas as pd\n",
    "import seaborn as sns\n",
    "import matplotlib.pyplot as plt\n",
    "\n",
    "def plot_correlation_matrix(dataframe, numerical_columns, figsize=(12, 10)):\n",
    "    correlation_matrix = dataframe[numerical_columns].corr()\n",
    "    plt.figure(figsize=figsize)\n",
    "    sns.heatmap(correlation_matrix, annot=False, fmt=\".2f\", cmap=\"coolwarm\", cbar=True)\n",
    "    plt.title(\"Correlation Matrix\")\n",
    "    plt.show()\n",
    "    return correlation_matrix"
   ]
  },
  {
   "cell_type": "code",
   "execution_count": 9,
   "metadata": {},
   "outputs": [],
   "source": [
    "import numpy as np\n",
    "\n",
    "def get_sorted_correlation_pairs(correlation_matrix):\n",
    "    \"\"\"\n",
    "    Converts a correlation matrix into a sorted list of feature pairs based on correlation values.\n",
    "    \n",
    "    Parameters:\n",
    "    - correlation_matrix: pandas.DataFrame, the correlation matrix to process.\n",
    "    \n",
    "    Returns:\n",
    "    - pandas.DataFrame: A DataFrame containing sorted correlation pairs with absolute correlation values.\n",
    "    \"\"\"\n",
    "    # Remove the lower triangle and diagonal\n",
    "    correlation_matrix = correlation_matrix.where(\n",
    "        ~np.tril(np.ones(correlation_matrix.shape)).astype(bool)\n",
    "    )\n",
    "\n",
    "    # Convert to long format\n",
    "    correlation_pairs = correlation_matrix.stack().reset_index()\n",
    "    correlation_pairs.columns = ['Feature 1', 'Feature 2', 'Correlation Score']\n",
    "    correlation_pairs['Absolute Correlation'] = np.abs(correlation_pairs['Correlation Score'])\n",
    "\n",
    "    # Sort by absolute correlation value\n",
    "    sorted_correlation_pairs = correlation_pairs.sort_values(by='Absolute Correlation', ascending=False)\n",
    "\n",
    "    return sorted_correlation_pairs"
   ]
  },
  {
   "cell_type": "code",
   "execution_count": 10,
   "metadata": {},
   "outputs": [
    {
     "data": {
      "image/png": "[encoded data removed]",
      "text/plain": [
       "<Figure size 1200x1000 with 2 Axes>"
      ]
     },
     "metadata": {},
     "output_type": "display_data"
    }
   ],
   "source": [
    "# listing all numerical values except price to have only the features\n",
    "numerical_hydro = hydro_variables.select_dtypes(include=['float64', 'int64']).columns\n",
    "correlation_matrix = plot_correlation_matrix(hydro_variables, numerical_hydro)"
   ]
  },
  {
   "cell_type": "code",
   "execution_count": 11,
   "metadata": {},
   "outputs": [
    {
     "name": "stdout",
     "output_type": "stream",
     "text": [
      "                       Feature 1                 Feature 2  Correlation Score  \\\n",
      "4              hydro_status_code  hydro_qualification_code           0.319332   \n",
      "8       hydro_qualification_code            hydro_latitude           0.238548   \n",
      "5              hydro_status_code           hydro_longitude           0.189748   \n",
      "6              hydro_status_code            hydro_latitude           0.159080   \n",
      "0  hydro_observation_result_elab         hydro_status_code          -0.129789   \n",
      "7       hydro_qualification_code           hydro_longitude          -0.049249   \n",
      "1  hydro_observation_result_elab  hydro_qualification_code          -0.042818   \n",
      "3  hydro_observation_result_elab            hydro_latitude          -0.025708   \n",
      "2  hydro_observation_result_elab           hydro_longitude          -0.024040   \n",
      "9                hydro_longitude            hydro_latitude          -0.014935   \n",
      "\n",
      "   Absolute Correlation  \n",
      "4              0.319332  \n",
      "8              0.238548  \n",
      "5              0.189748  \n",
      "6              0.159080  \n",
      "0              0.129789  \n",
      "7              0.049249  \n",
      "1              0.042818  \n",
      "3              0.025708  \n",
      "2              0.024040  \n",
      "9              0.014935  \n"
     ]
    }
   ],
   "source": [
    "print(get_sorted_correlation_pairs(correlation_matrix))"
   ]
  },
  {
   "cell_type": "code",
   "execution_count": 12,
   "metadata": {},
   "outputs": [
    {
     "data": {
      "text/html": [
       "<div>\n",
       "<style scoped>\n",
       "    .dataframe tbody tr th:only-of-type {\n",
       "        vertical-align: middle;\n",
       "    }\n",
       "\n",
       "    .dataframe tbody tr th {\n",
       "        vertical-align: top;\n",
       "    }\n",
       "\n",
       "    .dataframe thead th {\n",
       "        text-align: right;\n",
       "    }\n",
       "</style>\n",
       "<table border=\"1\" class=\"dataframe\">\n",
       "  <thead>\n",
       "    <tr style=\"text-align: right;\">\n",
       "      <th></th>\n",
       "      <th>hydro_observation_date_elab</th>\n",
       "      <th>hydro_observation_result_elab</th>\n",
       "      <th>hydro_status_code</th>\n",
       "      <th>hydro_status_label</th>\n",
       "      <th>hydro_qualification_code</th>\n",
       "      <th>hydro_longitude</th>\n",
       "      <th>hydro_latitude</th>\n",
       "    </tr>\n",
       "    <tr>\n",
       "      <th>row_index</th>\n",
       "      <th></th>\n",
       "      <th></th>\n",
       "      <th></th>\n",
       "      <th></th>\n",
       "      <th></th>\n",
       "      <th></th>\n",
       "      <th></th>\n",
       "    </tr>\n",
       "  </thead>\n",
       "  <tbody>\n",
       "    <tr>\n",
       "      <th>0</th>\n",
       "      <td>2020-01-01</td>\n",
       "      <td>1833.0</td>\n",
       "      <td>16</td>\n",
       "      <td>Donnée validée</td>\n",
       "      <td>20</td>\n",
       "      <td>5.685831</td>\n",
       "      <td>45.874843</td>\n",
       "    </tr>\n",
       "    <tr>\n",
       "      <th>1</th>\n",
       "      <td>2020-01-01</td>\n",
       "      <td>93389.0</td>\n",
       "      <td>16</td>\n",
       "      <td>Donnée validée</td>\n",
       "      <td>20</td>\n",
       "      <td>5.336428</td>\n",
       "      <td>46.047082</td>\n",
       "    </tr>\n",
       "    <tr>\n",
       "      <th>2</th>\n",
       "      <td>2020-01-01</td>\n",
       "      <td>108237.0</td>\n",
       "      <td>16</td>\n",
       "      <td>Donnée validée</td>\n",
       "      <td>20</td>\n",
       "      <td>5.233492</td>\n",
       "      <td>45.906423</td>\n",
       "    </tr>\n",
       "    <tr>\n",
       "      <th>3</th>\n",
       "      <td>2020-01-01</td>\n",
       "      <td>305464.0</td>\n",
       "      <td>16</td>\n",
       "      <td>Donnée validée</td>\n",
       "      <td>12</td>\n",
       "      <td>5.964334</td>\n",
       "      <td>46.137641</td>\n",
       "    </tr>\n",
       "    <tr>\n",
       "      <th>4</th>\n",
       "      <td>2020-01-01</td>\n",
       "      <td>85.0</td>\n",
       "      <td>12</td>\n",
       "      <td>Donnée pré-validée</td>\n",
       "      <td>20</td>\n",
       "      <td>5.330754</td>\n",
       "      <td>46.143007</td>\n",
       "    </tr>\n",
       "  </tbody>\n",
       "</table>\n",
       "</div>"
      ],
      "text/plain": [
       "          hydro_observation_date_elab  hydro_observation_result_elab  \\\n",
       "row_index                                                              \n",
       "0                          2020-01-01                         1833.0   \n",
       "1                          2020-01-01                        93389.0   \n",
       "2                          2020-01-01                       108237.0   \n",
       "3                          2020-01-01                       305464.0   \n",
       "4                          2020-01-01                           85.0   \n",
       "\n",
       "           hydro_status_code  hydro_status_label  hydro_qualification_code  \\\n",
       "row_index                                                                    \n",
       "0                         16      Donnée validée                        20   \n",
       "1                         16      Donnée validée                        20   \n",
       "2                         16      Donnée validée                        20   \n",
       "3                         16      Donnée validée                        12   \n",
       "4                         12  Donnée pré-validée                        20   \n",
       "\n",
       "           hydro_longitude  hydro_latitude  \n",
       "row_index                                   \n",
       "0                 5.685831       45.874843  \n",
       "1                 5.336428       46.047082  \n",
       "2                 5.233492       45.906423  \n",
       "3                 5.964334       46.137641  \n",
       "4                 5.330754       46.143007  "
      ]
     },
     "execution_count": 12,
     "metadata": {},
     "output_type": "execute_result"
    }
   ],
   "source": [
    "# Columns to drop\n",
    "useless_columns = [\n",
    "    \"hydro_station_code\",\n",
    "    \"hydro_qualification_label\",\n",
    "    \"hydro_hydro_quantity_elab\"\n",
    "]\n",
    "\n",
    "# Create the new DataFrame excluding the specified columns\n",
    "hydro_variables = hydro_variables.drop(columns=useless_columns, errors='ignore')\n",
    "hydro_variables.head()"
   ]
  },
  {
   "cell_type": "code",
   "execution_count": 13,
   "metadata": {},
   "outputs": [
    {
     "data": {
      "text/html": [
       "<div>\n",
       "<style scoped>\n",
       "    .dataframe tbody tr th:only-of-type {\n",
       "        vertical-align: middle;\n",
       "    }\n",
       "\n",
       "    .dataframe tbody tr th {\n",
       "        vertical-align: top;\n",
       "    }\n",
       "\n",
       "    .dataframe thead th {\n",
       "        text-align: right;\n",
       "    }\n",
       "</style>\n",
       "<table border=\"1\" class=\"dataframe\">\n",
       "  <thead>\n",
       "    <tr style=\"text-align: right;\">\n",
       "      <th></th>\n",
       "      <th>hydro_observation_date_elab</th>\n",
       "      <th>hydro_observation_result_elab</th>\n",
       "      <th>hydro_status_code</th>\n",
       "      <th>hydro_status_label</th>\n",
       "      <th>hydro_qualification_code</th>\n",
       "      <th>hydro_longitude</th>\n",
       "      <th>hydro_latitude</th>\n",
       "    </tr>\n",
       "    <tr>\n",
       "      <th>row_index</th>\n",
       "      <th></th>\n",
       "      <th></th>\n",
       "      <th></th>\n",
       "      <th></th>\n",
       "      <th></th>\n",
       "      <th></th>\n",
       "      <th></th>\n",
       "    </tr>\n",
       "  </thead>\n",
       "  <tbody>\n",
       "    <tr>\n",
       "      <th>0</th>\n",
       "      <td>0</td>\n",
       "      <td>1833.0</td>\n",
       "      <td>16</td>\n",
       "      <td>Donnée validée</td>\n",
       "      <td>20</td>\n",
       "      <td>5.685831</td>\n",
       "      <td>45.874843</td>\n",
       "    </tr>\n",
       "    <tr>\n",
       "      <th>1</th>\n",
       "      <td>0</td>\n",
       "      <td>93389.0</td>\n",
       "      <td>16</td>\n",
       "      <td>Donnée validée</td>\n",
       "      <td>20</td>\n",
       "      <td>5.336428</td>\n",
       "      <td>46.047082</td>\n",
       "    </tr>\n",
       "    <tr>\n",
       "      <th>2</th>\n",
       "      <td>0</td>\n",
       "      <td>108237.0</td>\n",
       "      <td>16</td>\n",
       "      <td>Donnée validée</td>\n",
       "      <td>20</td>\n",
       "      <td>5.233492</td>\n",
       "      <td>45.906423</td>\n",
       "    </tr>\n",
       "    <tr>\n",
       "      <th>3</th>\n",
       "      <td>0</td>\n",
       "      <td>305464.0</td>\n",
       "      <td>16</td>\n",
       "      <td>Donnée validée</td>\n",
       "      <td>12</td>\n",
       "      <td>5.964334</td>\n",
       "      <td>46.137641</td>\n",
       "    </tr>\n",
       "    <tr>\n",
       "      <th>4</th>\n",
       "      <td>0</td>\n",
       "      <td>85.0</td>\n",
       "      <td>12</td>\n",
       "      <td>Donnée pré-validée</td>\n",
       "      <td>20</td>\n",
       "      <td>5.330754</td>\n",
       "      <td>46.143007</td>\n",
       "    </tr>\n",
       "  </tbody>\n",
       "</table>\n",
       "</div>"
      ],
      "text/plain": [
       "           hydro_observation_date_elab  hydro_observation_result_elab  \\\n",
       "row_index                                                               \n",
       "0                                    0                         1833.0   \n",
       "1                                    0                        93389.0   \n",
       "2                                    0                       108237.0   \n",
       "3                                    0                       305464.0   \n",
       "4                                    0                           85.0   \n",
       "\n",
       "           hydro_status_code  hydro_status_label  hydro_qualification_code  \\\n",
       "row_index                                                                    \n",
       "0                         16      Donnée validée                        20   \n",
       "1                         16      Donnée validée                        20   \n",
       "2                         16      Donnée validée                        20   \n",
       "3                         16      Donnée validée                        12   \n",
       "4                         12  Donnée pré-validée                        20   \n",
       "\n",
       "           hydro_longitude  hydro_latitude  \n",
       "row_index                                   \n",
       "0                 5.685831       45.874843  \n",
       "1                 5.336428       46.047082  \n",
       "2                 5.233492       45.906423  \n",
       "3                 5.964334       46.137641  \n",
       "4                 5.330754       46.143007  "
      ]
     },
     "execution_count": 13,
     "metadata": {},
     "output_type": "execute_result"
    }
   ],
   "source": [
    "# Convert to datetime\n",
    "from datetime import datetime\n",
    "\n",
    "def days_since_start_of_2020(date_str):\n",
    "    # Convertir la date en un objet datetime\n",
    "    parsed_date = pd.to_datetime(date_str, format='%Y-%m-%d')\n",
    "    \n",
    "    # Fixer la date de référence (1er janvier 2022)\n",
    "    ref_date = datetime(2020, 1, 1)\n",
    "    \n",
    "    # Calculer le delta entre la date et le 1er janvier 2022\n",
    "    delta = parsed_date - ref_date\n",
    "    \n",
    "    # Retourner le nombre de jours écoulés\n",
    "    return delta.days\n",
    "\n",
    "hydro_variables['hydro_observation_date_elab'] = hydro_variables['hydro_observation_date_elab'].apply(days_since_start_of_2020)\n",
    "# hydro_variables[\"hydro_observation_date_elab\"] = pd.to_datetime(hydro_variables['hydro_observation_date_elab'], errors='coerce')\n",
    "hydro_variables.head()"
   ]
  },
  {
   "cell_type": "code",
   "execution_count": 14,
   "metadata": {},
   "outputs": [
    {
     "data": {
      "text/html": [
       "<div>\n",
       "<style scoped>\n",
       "    .dataframe tbody tr th:only-of-type {\n",
       "        vertical-align: middle;\n",
       "    }\n",
       "\n",
       "    .dataframe tbody tr th {\n",
       "        vertical-align: top;\n",
       "    }\n",
       "\n",
       "    .dataframe thead th {\n",
       "        text-align: right;\n",
       "    }\n",
       "</style>\n",
       "<table border=\"1\" class=\"dataframe\">\n",
       "  <thead>\n",
       "    <tr style=\"text-align: right;\">\n",
       "      <th></th>\n",
       "      <th>hydro_observation_date_elab</th>\n",
       "      <th>hydro_observation_result_elab</th>\n",
       "      <th>hydro_status_code</th>\n",
       "      <th>hydro_status_label</th>\n",
       "      <th>hydro_qualification_code</th>\n",
       "      <th>hydro_longitude</th>\n",
       "      <th>hydro_latitude</th>\n",
       "    </tr>\n",
       "    <tr>\n",
       "      <th>row_index</th>\n",
       "      <th></th>\n",
       "      <th></th>\n",
       "      <th></th>\n",
       "      <th></th>\n",
       "      <th></th>\n",
       "      <th></th>\n",
       "      <th></th>\n",
       "    </tr>\n",
       "  </thead>\n",
       "  <tbody>\n",
       "    <tr>\n",
       "      <th>0</th>\n",
       "      <td>0</td>\n",
       "      <td>1833.0</td>\n",
       "      <td>16</td>\n",
       "      <td>1</td>\n",
       "      <td>20</td>\n",
       "      <td>5.685831</td>\n",
       "      <td>45.874843</td>\n",
       "    </tr>\n",
       "    <tr>\n",
       "      <th>1</th>\n",
       "      <td>0</td>\n",
       "      <td>93389.0</td>\n",
       "      <td>16</td>\n",
       "      <td>1</td>\n",
       "      <td>20</td>\n",
       "      <td>5.336428</td>\n",
       "      <td>46.047082</td>\n",
       "    </tr>\n",
       "    <tr>\n",
       "      <th>2</th>\n",
       "      <td>0</td>\n",
       "      <td>108237.0</td>\n",
       "      <td>16</td>\n",
       "      <td>1</td>\n",
       "      <td>20</td>\n",
       "      <td>5.233492</td>\n",
       "      <td>45.906423</td>\n",
       "    </tr>\n",
       "    <tr>\n",
       "      <th>3</th>\n",
       "      <td>0</td>\n",
       "      <td>305464.0</td>\n",
       "      <td>16</td>\n",
       "      <td>1</td>\n",
       "      <td>12</td>\n",
       "      <td>5.964334</td>\n",
       "      <td>46.137641</td>\n",
       "    </tr>\n",
       "    <tr>\n",
       "      <th>4</th>\n",
       "      <td>0</td>\n",
       "      <td>85.0</td>\n",
       "      <td>12</td>\n",
       "      <td>2</td>\n",
       "      <td>20</td>\n",
       "      <td>5.330754</td>\n",
       "      <td>46.143007</td>\n",
       "    </tr>\n",
       "  </tbody>\n",
       "</table>\n",
       "</div>"
      ],
      "text/plain": [
       "           hydro_observation_date_elab  hydro_observation_result_elab  \\\n",
       "row_index                                                               \n",
       "0                                    0                         1833.0   \n",
       "1                                    0                        93389.0   \n",
       "2                                    0                       108237.0   \n",
       "3                                    0                       305464.0   \n",
       "4                                    0                           85.0   \n",
       "\n",
       "           hydro_status_code  hydro_status_label  hydro_qualification_code  \\\n",
       "row_index                                                                    \n",
       "0                         16                   1                        20   \n",
       "1                         16                   1                        20   \n",
       "2                         16                   1                        20   \n",
       "3                         16                   1                        12   \n",
       "4                         12                   2                        20   \n",
       "\n",
       "           hydro_longitude  hydro_latitude  \n",
       "row_index                                   \n",
       "0                 5.685831       45.874843  \n",
       "1                 5.336428       46.047082  \n",
       "2                 5.233492       45.906423  \n",
       "3                 5.964334       46.137641  \n",
       "4                 5.330754       46.143007  "
      ]
     },
     "execution_count": 14,
     "metadata": {},
     "output_type": "execute_result"
    }
   ],
   "source": [
    "mapping = {\n",
    "    'Donnée validée': 1,\n",
    "    'Donnée pré-validée': 2,\n",
    "    'Donnée brute': 3,\n",
    "    'Donnée corrigée': 4\n",
    "}\n",
    "\n",
    "# Apply the mapping to the column\n",
    "hydro_variables['hydro_status_label'] = hydro_variables['hydro_status_label'].map(mapping)\n",
    "hydro_variables.head()"
   ]
  }
 ],
 "metadata": {
  "kernelspec": {
   "display_name": "Python 3 (ipykernel)",
   "language": "python",
   "name": "python3"
  },
  "language_info": {
   "codemirror_mode": {
    "name": "ipython",
    "version": 3
   },
   "file_extension": ".py",
   "mimetype": "text/x-python",
   "name": "python",
   "nbconvert_exporter": "python",
   "pygments_lexer": "ipython3",
   "version": "3.12.7"
  }
 },
 "nbformat": 4,
 "nbformat_minor": 4
}
